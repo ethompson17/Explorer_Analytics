{
 "cells": [
  {
   "cell_type": "code",
   "execution_count": null,
   "id": "61270f09",
   "metadata": {},
   "outputs": [],
   "source": [
    "import pandas as pd\n",
    "import numpy as np\n",
    "import matplotlib.pyplot as plt\n",
    "\n",
    "\n",
    "df = pd.read_csv('https://raw.githubusercontent.com/ethompson17/Explorer_Analytics/main/orders_export_1.csv')\n",
    "\n",
    "pd.options.display.max_rows = 100\n",
    "pd.options.display.max_columns = 100"
   ]
  },
  {
   "cell_type": "markdown",
   "id": "d70aea63",
   "metadata": {},
   "source": [
    "## Dirty Data"
   ]
  },
  {
   "cell_type": "code",
   "execution_count": 2,
   "id": "0a7a8b6a",
   "metadata": {},
   "outputs": [
    {
     "data": {
      "text/html": [
       "<div>\n",
       "<style scoped>\n",
       "    .dataframe tbody tr th:only-of-type {\n",
       "        vertical-align: middle;\n",
       "    }\n",
       "\n",
       "    .dataframe tbody tr th {\n",
       "        vertical-align: top;\n",
       "    }\n",
       "\n",
       "    .dataframe thead th {\n",
       "        text-align: right;\n",
       "    }\n",
       "</style>\n",
       "<table border=\"1\" class=\"dataframe\">\n",
       "  <thead>\n",
       "    <tr style=\"text-align: right;\">\n",
       "      <th></th>\n",
       "      <th>Name</th>\n",
       "      <th>Email</th>\n",
       "      <th>Financial Status</th>\n",
       "      <th>Paid at</th>\n",
       "      <th>Fulfillment Status</th>\n",
       "      <th>Fulfilled at</th>\n",
       "      <th>Accepts Marketing</th>\n",
       "      <th>Currency</th>\n",
       "      <th>Subtotal</th>\n",
       "      <th>Shipping</th>\n",
       "      <th>Taxes</th>\n",
       "      <th>Total</th>\n",
       "      <th>Discount Code</th>\n",
       "      <th>Discount Amount</th>\n",
       "      <th>Shipping Method</th>\n",
       "      <th>Created at</th>\n",
       "      <th>Lineitem quantity</th>\n",
       "      <th>Lineitem name</th>\n",
       "      <th>Lineitem price</th>\n",
       "      <th>Lineitem compare at price</th>\n",
       "      <th>Lineitem sku</th>\n",
       "      <th>Lineitem requires shipping</th>\n",
       "      <th>Lineitem taxable</th>\n",
       "      <th>Lineitem fulfillment status</th>\n",
       "      <th>Billing Name</th>\n",
       "      <th>Billing Street</th>\n",
       "      <th>Billing Address1</th>\n",
       "      <th>Billing Address2</th>\n",
       "      <th>Billing Company</th>\n",
       "      <th>Billing City</th>\n",
       "      <th>Billing Zip</th>\n",
       "      <th>Billing Province</th>\n",
       "      <th>Billing Country</th>\n",
       "      <th>Billing Phone</th>\n",
       "      <th>Shipping Name</th>\n",
       "      <th>Shipping Street</th>\n",
       "      <th>Shipping Address1</th>\n",
       "      <th>Shipping Address2</th>\n",
       "      <th>Shipping Company</th>\n",
       "      <th>Shipping City</th>\n",
       "      <th>Shipping Zip</th>\n",
       "      <th>Shipping Province</th>\n",
       "      <th>Shipping Country</th>\n",
       "      <th>Shipping Phone</th>\n",
       "      <th>Notes</th>\n",
       "      <th>Note Attributes</th>\n",
       "      <th>Cancelled at</th>\n",
       "      <th>Payment Method</th>\n",
       "      <th>Payment Reference</th>\n",
       "      <th>Refunded Amount</th>\n",
       "      <th>Vendor</th>\n",
       "      <th>Outstanding Balance</th>\n",
       "      <th>Employee</th>\n",
       "      <th>Location</th>\n",
       "      <th>Device ID</th>\n",
       "      <th>Id</th>\n",
       "      <th>Tags</th>\n",
       "      <th>Risk Level</th>\n",
       "      <th>Source</th>\n",
       "      <th>Lineitem discount</th>\n",
       "      <th>Tax 1 Name</th>\n",
       "      <th>Tax 1 Value</th>\n",
       "      <th>Tax 2 Name</th>\n",
       "      <th>Tax 2 Value</th>\n",
       "      <th>Tax 3 Name</th>\n",
       "      <th>Tax 3 Value</th>\n",
       "      <th>Tax 4 Name</th>\n",
       "      <th>Tax 4 Value</th>\n",
       "      <th>Tax 5 Name</th>\n",
       "      <th>Tax 5 Value</th>\n",
       "      <th>Phone</th>\n",
       "      <th>Receipt Number</th>\n",
       "      <th>Duties</th>\n",
       "      <th>Billing Province Name</th>\n",
       "      <th>Shipping Province Name</th>\n",
       "      <th>Payment ID</th>\n",
       "      <th>Payment Terms Name</th>\n",
       "      <th>Next Payment Due At</th>\n",
       "    </tr>\n",
       "  </thead>\n",
       "  <tbody>\n",
       "    <tr>\n",
       "      <th>0</th>\n",
       "      <td>#1081</td>\n",
       "      <td>NaN</td>\n",
       "      <td>paid</td>\n",
       "      <td>2022-04-06 21:52:40 -0400</td>\n",
       "      <td>fulfilled</td>\n",
       "      <td>2022-04-07 12:20:58 -0400</td>\n",
       "      <td>no</td>\n",
       "      <td>USD</td>\n",
       "      <td>35.0</td>\n",
       "      <td>2.74</td>\n",
       "      <td>0.0</td>\n",
       "      <td>37.74</td>\n",
       "      <td>NaN</td>\n",
       "      <td>0.0</td>\n",
       "      <td>Expedited (USPS) 1-4 Days</td>\n",
       "      <td>2022-04-06 21:52:39 -0400</td>\n",
       "      <td>1</td>\n",
       "      <td>White R Hepler Hoodie - S</td>\n",
       "      <td>35.0</td>\n",
       "      <td>NaN</td>\n",
       "      <td>NaN</td>\n",
       "      <td>True</td>\n",
       "      <td>True</td>\n",
       "      <td>fulfilled</td>\n",
       "      <td>Deric Kenne</td>\n",
       "      <td>547 Symphony Way</td>\n",
       "      <td>547 Symphony Way</td>\n",
       "      <td>NaN</td>\n",
       "      <td>NaN</td>\n",
       "      <td>Wadsworth</td>\n",
       "      <td>44281</td>\n",
       "      <td>OH</td>\n",
       "      <td>US</td>\n",
       "      <td>NaN</td>\n",
       "      <td>Deric Kenne</td>\n",
       "      <td>547 Symphony Way</td>\n",
       "      <td>547 Symphony Way</td>\n",
       "      <td>NaN</td>\n",
       "      <td>NaN</td>\n",
       "      <td>Wadsworth</td>\n",
       "      <td>44281</td>\n",
       "      <td>OH</td>\n",
       "      <td>US</td>\n",
       "      <td>NaN</td>\n",
       "      <td>NaN</td>\n",
       "      <td>NaN</td>\n",
       "      <td>NaN</td>\n",
       "      <td>Shopify Payments</td>\n",
       "      <td>c24005816451236.1</td>\n",
       "      <td>0.0</td>\n",
       "      <td>ExplorerClothing</td>\n",
       "      <td>0.0</td>\n",
       "      <td>NaN</td>\n",
       "      <td>NaN</td>\n",
       "      <td>NaN</td>\n",
       "      <td>4.541752e+12</td>\n",
       "      <td>NaN</td>\n",
       "      <td>Low</td>\n",
       "      <td>web</td>\n",
       "      <td>0.0</td>\n",
       "      <td>NaN</td>\n",
       "      <td>NaN</td>\n",
       "      <td>NaN</td>\n",
       "      <td>NaN</td>\n",
       "      <td>NaN</td>\n",
       "      <td>NaN</td>\n",
       "      <td>NaN</td>\n",
       "      <td>NaN</td>\n",
       "      <td>NaN</td>\n",
       "      <td>NaN</td>\n",
       "      <td>1.330631e+10</td>\n",
       "      <td>NaN</td>\n",
       "      <td>NaN</td>\n",
       "      <td>Ohio</td>\n",
       "      <td>Ohio</td>\n",
       "      <td>NaN</td>\n",
       "      <td>NaN</td>\n",
       "      <td>NaN</td>\n",
       "    </tr>\n",
       "    <tr>\n",
       "      <th>1</th>\n",
       "      <td>#1080</td>\n",
       "      <td>NaN</td>\n",
       "      <td>paid</td>\n",
       "      <td>NaN</td>\n",
       "      <td>fulfilled</td>\n",
       "      <td>2022-02-15 10:41:34 -0500</td>\n",
       "      <td>no</td>\n",
       "      <td>USD</td>\n",
       "      <td>0.0</td>\n",
       "      <td>0.00</td>\n",
       "      <td>0.0</td>\n",
       "      <td>0.00</td>\n",
       "      <td>anthony100</td>\n",
       "      <td>35.0</td>\n",
       "      <td>Standard (USPS) 5-7 Days</td>\n",
       "      <td>2022-02-14 23:36:42 -0500</td>\n",
       "      <td>1</td>\n",
       "      <td>Explorer Vintage Crewnecks - S</td>\n",
       "      <td>35.0</td>\n",
       "      <td>NaN</td>\n",
       "      <td>NaN</td>\n",
       "      <td>True</td>\n",
       "      <td>True</td>\n",
       "      <td>fulfilled</td>\n",
       "      <td>Anthony  Gattoni</td>\n",
       "      <td>12058 Chandler Drive</td>\n",
       "      <td>12058 Chandler Drive</td>\n",
       "      <td>NaN</td>\n",
       "      <td>NaN</td>\n",
       "      <td>Plymouth</td>\n",
       "      <td>48170</td>\n",
       "      <td>MI</td>\n",
       "      <td>US</td>\n",
       "      <td>NaN</td>\n",
       "      <td>Anthony  Gattoni</td>\n",
       "      <td>12058 Chandler Drive</td>\n",
       "      <td>12058 Chandler Drive</td>\n",
       "      <td>NaN</td>\n",
       "      <td>NaN</td>\n",
       "      <td>Plymouth</td>\n",
       "      <td>48170</td>\n",
       "      <td>MI</td>\n",
       "      <td>US</td>\n",
       "      <td>NaN</td>\n",
       "      <td>NaN</td>\n",
       "      <td>NaN</td>\n",
       "      <td>NaN</td>\n",
       "      <td>NaN</td>\n",
       "      <td>NaN</td>\n",
       "      <td>0.0</td>\n",
       "      <td>ExplorerClothing</td>\n",
       "      <td>0.0</td>\n",
       "      <td>NaN</td>\n",
       "      <td>NaN</td>\n",
       "      <td>NaN</td>\n",
       "      <td>4.473488e+12</td>\n",
       "      <td>NaN</td>\n",
       "      <td>Low</td>\n",
       "      <td>web</td>\n",
       "      <td>0.0</td>\n",
       "      <td>NaN</td>\n",
       "      <td>NaN</td>\n",
       "      <td>NaN</td>\n",
       "      <td>NaN</td>\n",
       "      <td>NaN</td>\n",
       "      <td>NaN</td>\n",
       "      <td>NaN</td>\n",
       "      <td>NaN</td>\n",
       "      <td>NaN</td>\n",
       "      <td>NaN</td>\n",
       "      <td>1.734377e+10</td>\n",
       "      <td>NaN</td>\n",
       "      <td>NaN</td>\n",
       "      <td>Michigan</td>\n",
       "      <td>Michigan</td>\n",
       "      <td>NaN</td>\n",
       "      <td>NaN</td>\n",
       "      <td>NaN</td>\n",
       "    </tr>\n",
       "    <tr>\n",
       "      <th>2</th>\n",
       "      <td>#1079</td>\n",
       "      <td>NaN</td>\n",
       "      <td>paid</td>\n",
       "      <td>2021-12-13 19:43:08 -0500</td>\n",
       "      <td>fulfilled</td>\n",
       "      <td>2021-12-14 14:04:03 -0500</td>\n",
       "      <td>no</td>\n",
       "      <td>USD</td>\n",
       "      <td>35.0</td>\n",
       "      <td>0.00</td>\n",
       "      <td>2.1</td>\n",
       "      <td>37.10</td>\n",
       "      <td>NaN</td>\n",
       "      <td>0.0</td>\n",
       "      <td>Standard (USPS) 5-7 Days</td>\n",
       "      <td>2021-12-13 19:43:07 -0500</td>\n",
       "      <td>1</td>\n",
       "      <td>Explorer Vintage Crewnecks - L</td>\n",
       "      <td>35.0</td>\n",
       "      <td>NaN</td>\n",
       "      <td>NaN</td>\n",
       "      <td>True</td>\n",
       "      <td>True</td>\n",
       "      <td>fulfilled</td>\n",
       "      <td>Eli Smith</td>\n",
       "      <td>11162 Rivendell Court</td>\n",
       "      <td>11162 Rivendell Court</td>\n",
       "      <td>NaN</td>\n",
       "      <td>NaN</td>\n",
       "      <td>Pinckney</td>\n",
       "      <td>48169</td>\n",
       "      <td>MI</td>\n",
       "      <td>US</td>\n",
       "      <td>NaN</td>\n",
       "      <td>Eli Smith</td>\n",
       "      <td>11162 Rivendell Court</td>\n",
       "      <td>11162 Rivendell Court</td>\n",
       "      <td>NaN</td>\n",
       "      <td>NaN</td>\n",
       "      <td>Pinckney</td>\n",
       "      <td>48169</td>\n",
       "      <td>MI</td>\n",
       "      <td>US</td>\n",
       "      <td>NaN</td>\n",
       "      <td>NaN</td>\n",
       "      <td>NaN</td>\n",
       "      <td>NaN</td>\n",
       "      <td>Shopify Payments</td>\n",
       "      <td>c22866461687972.1</td>\n",
       "      <td>0.0</td>\n",
       "      <td>ExplorerClothing</td>\n",
       "      <td>0.0</td>\n",
       "      <td>NaN</td>\n",
       "      <td>NaN</td>\n",
       "      <td>NaN</td>\n",
       "      <td>4.380866e+12</td>\n",
       "      <td>NaN</td>\n",
       "      <td>Low</td>\n",
       "      <td>web</td>\n",
       "      <td>0.0</td>\n",
       "      <td>Michigan State Tax 6%</td>\n",
       "      <td>2.1</td>\n",
       "      <td>NaN</td>\n",
       "      <td>NaN</td>\n",
       "      <td>NaN</td>\n",
       "      <td>NaN</td>\n",
       "      <td>NaN</td>\n",
       "      <td>NaN</td>\n",
       "      <td>NaN</td>\n",
       "      <td>NaN</td>\n",
       "      <td>1.734883e+10</td>\n",
       "      <td>NaN</td>\n",
       "      <td>NaN</td>\n",
       "      <td>Michigan</td>\n",
       "      <td>Michigan</td>\n",
       "      <td>NaN</td>\n",
       "      <td>NaN</td>\n",
       "      <td>NaN</td>\n",
       "    </tr>\n",
       "  </tbody>\n",
       "</table>\n",
       "</div>"
      ],
      "text/plain": [
       "    Name Email Financial Status                    Paid at Fulfillment Status  \\\n",
       "0  #1081   NaN             paid  2022-04-06 21:52:40 -0400          fulfilled   \n",
       "1  #1080   NaN             paid                        NaN          fulfilled   \n",
       "2  #1079   NaN             paid  2021-12-13 19:43:08 -0500          fulfilled   \n",
       "\n",
       "                Fulfilled at Accepts Marketing Currency  Subtotal  Shipping  \\\n",
       "0  2022-04-07 12:20:58 -0400                no      USD      35.0      2.74   \n",
       "1  2022-02-15 10:41:34 -0500                no      USD       0.0      0.00   \n",
       "2  2021-12-14 14:04:03 -0500                no      USD      35.0      0.00   \n",
       "\n",
       "   Taxes  Total Discount Code  Discount Amount            Shipping Method  \\\n",
       "0    0.0  37.74           NaN              0.0  Expedited (USPS) 1-4 Days   \n",
       "1    0.0   0.00    anthony100             35.0   Standard (USPS) 5-7 Days   \n",
       "2    2.1  37.10           NaN              0.0   Standard (USPS) 5-7 Days   \n",
       "\n",
       "                  Created at  Lineitem quantity  \\\n",
       "0  2022-04-06 21:52:39 -0400                  1   \n",
       "1  2022-02-14 23:36:42 -0500                  1   \n",
       "2  2021-12-13 19:43:07 -0500                  1   \n",
       "\n",
       "                    Lineitem name  Lineitem price  Lineitem compare at price  \\\n",
       "0       White R Hepler Hoodie - S            35.0                        NaN   \n",
       "1  Explorer Vintage Crewnecks - S            35.0                        NaN   \n",
       "2  Explorer Vintage Crewnecks - L            35.0                        NaN   \n",
       "\n",
       "   Lineitem sku  Lineitem requires shipping  Lineitem taxable  \\\n",
       "0           NaN                        True              True   \n",
       "1           NaN                        True              True   \n",
       "2           NaN                        True              True   \n",
       "\n",
       "  Lineitem fulfillment status       Billing Name         Billing Street  \\\n",
       "0                   fulfilled        Deric Kenne       547 Symphony Way   \n",
       "1                   fulfilled  Anthony  Gattoni    12058 Chandler Drive   \n",
       "2                   fulfilled          Eli Smith  11162 Rivendell Court   \n",
       "\n",
       "        Billing Address1 Billing Address2 Billing Company Billing City  \\\n",
       "0       547 Symphony Way              NaN             NaN    Wadsworth   \n",
       "1   12058 Chandler Drive              NaN             NaN     Plymouth   \n",
       "2  11162 Rivendell Court              NaN             NaN     Pinckney   \n",
       "\n",
       "  Billing Zip Billing Province Billing Country Billing Phone  \\\n",
       "0       44281               OH              US           NaN   \n",
       "1       48170               MI              US           NaN   \n",
       "2       48169               MI              US           NaN   \n",
       "\n",
       "       Shipping Name        Shipping Street      Shipping Address1  \\\n",
       "0        Deric Kenne       547 Symphony Way       547 Symphony Way   \n",
       "1  Anthony  Gattoni    12058 Chandler Drive   12058 Chandler Drive   \n",
       "2          Eli Smith  11162 Rivendell Court  11162 Rivendell Court   \n",
       "\n",
       "  Shipping Address2 Shipping Company Shipping City Shipping Zip  \\\n",
       "0               NaN              NaN     Wadsworth        44281   \n",
       "1               NaN              NaN      Plymouth        48170   \n",
       "2               NaN              NaN      Pinckney        48169   \n",
       "\n",
       "  Shipping Province Shipping Country Shipping Phone Notes  Note Attributes  \\\n",
       "0                OH               US            NaN   NaN              NaN   \n",
       "1                MI               US            NaN   NaN              NaN   \n",
       "2                MI               US            NaN   NaN              NaN   \n",
       "\n",
       "   Cancelled at    Payment Method  Payment Reference  Refunded Amount  \\\n",
       "0           NaN  Shopify Payments  c24005816451236.1              0.0   \n",
       "1           NaN               NaN                NaN              0.0   \n",
       "2           NaN  Shopify Payments  c22866461687972.1              0.0   \n",
       "\n",
       "             Vendor  Outstanding Balance  Employee  Location  Device ID  \\\n",
       "0  ExplorerClothing                  0.0       NaN       NaN        NaN   \n",
       "1  ExplorerClothing                  0.0       NaN       NaN        NaN   \n",
       "2  ExplorerClothing                  0.0       NaN       NaN        NaN   \n",
       "\n",
       "             Id  Tags Risk Level Source  Lineitem discount  \\\n",
       "0  4.541752e+12   NaN        Low    web                0.0   \n",
       "1  4.473488e+12   NaN        Low    web                0.0   \n",
       "2  4.380866e+12   NaN        Low    web                0.0   \n",
       "\n",
       "              Tax 1 Name  Tax 1 Value  Tax 2 Name  Tax 2 Value  Tax 3 Name  \\\n",
       "0                    NaN          NaN         NaN          NaN         NaN   \n",
       "1                    NaN          NaN         NaN          NaN         NaN   \n",
       "2  Michigan State Tax 6%          2.1         NaN          NaN         NaN   \n",
       "\n",
       "   Tax 3 Value  Tax 4 Name  Tax 4 Value  Tax 5 Name  Tax 5 Value  \\\n",
       "0          NaN         NaN          NaN         NaN          NaN   \n",
       "1          NaN         NaN          NaN         NaN          NaN   \n",
       "2          NaN         NaN          NaN         NaN          NaN   \n",
       "\n",
       "          Phone  Receipt Number  Duties Billing Province Name  \\\n",
       "0  1.330631e+10             NaN     NaN                  Ohio   \n",
       "1  1.734377e+10             NaN     NaN              Michigan   \n",
       "2  1.734883e+10             NaN     NaN              Michigan   \n",
       "\n",
       "  Shipping Province Name  Payment ID  Payment Terms Name  Next Payment Due At  \n",
       "0                   Ohio         NaN                 NaN                  NaN  \n",
       "1               Michigan         NaN                 NaN                  NaN  \n",
       "2               Michigan         NaN                 NaN                  NaN  "
      ]
     },
     "execution_count": 2,
     "metadata": {},
     "output_type": "execute_result"
    }
   ],
   "source": [
    "df.head(3)"
   ]
  },
  {
   "cell_type": "markdown",
   "id": "045542e6",
   "metadata": {},
   "source": [
    "# Removing Completely Null Columns"
   ]
  },
  {
   "cell_type": "code",
   "execution_count": 13,
   "id": "c85f89a2",
   "metadata": {},
   "outputs": [],
   "source": [
    "newdf=df\n",
    "for column in newdf.columns: \n",
    "    if df[column].count() == 0: \n",
    "        df=df.drop(column, axis=1)"
   ]
  },
  {
   "cell_type": "markdown",
   "id": "7d239e81",
   "metadata": {},
   "source": [
    "# Create Item Type Column"
   ]
  },
  {
   "cell_type": "code",
   "execution_count": 14,
   "id": "4924878c",
   "metadata": {},
   "outputs": [],
   "source": [
    "conditions = [(newdf['Lineitem name'].str.contains('Hat')),\n",
    "              (newdf['Lineitem name'].str.contains('Hoodie')),\n",
    "              (newdf['Lineitem name'].str.contains('Crewneck')),\n",
    "              (newdf['Lineitem name'].str.contains('Sweatshirt'))\n",
    "             ]\n",
    "\n",
    "values = ['Hat', 'Hoodie', 'Crewneck', 'Hoodie']\n",
    "\n",
    "newdf['Item Type'] = np.select(conditions, values)\n",
    "\n",
    "newdf['Item Type'] = newdf['Item Type'].replace({'0': np.nan})"
   ]
  },
  {
   "cell_type": "markdown",
   "id": "d6421b28",
   "metadata": {},
   "source": [
    "# New Data Frame"
   ]
  },
  {
   "cell_type": "code",
   "execution_count": 15,
   "id": "7b6538ba",
   "metadata": {},
   "outputs": [
    {
     "data": {
      "text/html": [
       "<div>\n",
       "<style scoped>\n",
       "    .dataframe tbody tr th:only-of-type {\n",
       "        vertical-align: middle;\n",
       "    }\n",
       "\n",
       "    .dataframe tbody tr th {\n",
       "        vertical-align: top;\n",
       "    }\n",
       "\n",
       "    .dataframe thead th {\n",
       "        text-align: right;\n",
       "    }\n",
       "</style>\n",
       "<table border=\"1\" class=\"dataframe\">\n",
       "  <thead>\n",
       "    <tr style=\"text-align: right;\">\n",
       "      <th></th>\n",
       "      <th>Name</th>\n",
       "      <th>Email</th>\n",
       "      <th>Financial Status</th>\n",
       "      <th>Paid at</th>\n",
       "      <th>Fulfillment Status</th>\n",
       "      <th>Fulfilled at</th>\n",
       "      <th>Accepts Marketing</th>\n",
       "      <th>Currency</th>\n",
       "      <th>Subtotal</th>\n",
       "      <th>Shipping</th>\n",
       "      <th>Taxes</th>\n",
       "      <th>Total</th>\n",
       "      <th>Discount Code</th>\n",
       "      <th>Discount Amount</th>\n",
       "      <th>Shipping Method</th>\n",
       "      <th>Created at</th>\n",
       "      <th>Lineitem quantity</th>\n",
       "      <th>Lineitem name</th>\n",
       "      <th>Lineitem price</th>\n",
       "      <th>Lineitem compare at price</th>\n",
       "      <th>Lineitem requires shipping</th>\n",
       "      <th>Lineitem taxable</th>\n",
       "      <th>Lineitem fulfillment status</th>\n",
       "      <th>Billing Name</th>\n",
       "      <th>Billing Street</th>\n",
       "      <th>Billing Address1</th>\n",
       "      <th>Billing Address2</th>\n",
       "      <th>Billing Company</th>\n",
       "      <th>Billing City</th>\n",
       "      <th>Billing Zip</th>\n",
       "      <th>Billing Province</th>\n",
       "      <th>Billing Country</th>\n",
       "      <th>Billing Phone</th>\n",
       "      <th>Shipping Name</th>\n",
       "      <th>Shipping Street</th>\n",
       "      <th>Shipping Address1</th>\n",
       "      <th>Shipping Address2</th>\n",
       "      <th>Shipping Company</th>\n",
       "      <th>Shipping City</th>\n",
       "      <th>Shipping Zip</th>\n",
       "      <th>Shipping Province</th>\n",
       "      <th>Shipping Country</th>\n",
       "      <th>Shipping Phone</th>\n",
       "      <th>Notes</th>\n",
       "      <th>Payment Method</th>\n",
       "      <th>Payment Reference</th>\n",
       "      <th>Refunded Amount</th>\n",
       "      <th>Vendor</th>\n",
       "      <th>Outstanding Balance</th>\n",
       "      <th>Id</th>\n",
       "      <th>Risk Level</th>\n",
       "      <th>Source</th>\n",
       "      <th>Lineitem discount</th>\n",
       "      <th>Tax 1 Name</th>\n",
       "      <th>Tax 1 Value</th>\n",
       "      <th>Phone</th>\n",
       "      <th>Billing Province Name</th>\n",
       "      <th>Shipping Province Name</th>\n",
       "      <th>Item Type</th>\n",
       "    </tr>\n",
       "  </thead>\n",
       "  <tbody>\n",
       "    <tr>\n",
       "      <th>0</th>\n",
       "      <td>#1081</td>\n",
       "      <td>NaN</td>\n",
       "      <td>paid</td>\n",
       "      <td>2022-04-06 21:52:40 -0400</td>\n",
       "      <td>fulfilled</td>\n",
       "      <td>2022-04-07 12:20:58 -0400</td>\n",
       "      <td>no</td>\n",
       "      <td>USD</td>\n",
       "      <td>35.0</td>\n",
       "      <td>2.74</td>\n",
       "      <td>0.0</td>\n",
       "      <td>37.74</td>\n",
       "      <td>NaN</td>\n",
       "      <td>0.0</td>\n",
       "      <td>Expedited (USPS) 1-4 Days</td>\n",
       "      <td>2022-04-06 21:52:39 -0400</td>\n",
       "      <td>1</td>\n",
       "      <td>White R Hepler Hoodie - S</td>\n",
       "      <td>35.0</td>\n",
       "      <td>NaN</td>\n",
       "      <td>True</td>\n",
       "      <td>True</td>\n",
       "      <td>fulfilled</td>\n",
       "      <td>Deric Kenne</td>\n",
       "      <td>547 Symphony Way</td>\n",
       "      <td>547 Symphony Way</td>\n",
       "      <td>NaN</td>\n",
       "      <td>NaN</td>\n",
       "      <td>Wadsworth</td>\n",
       "      <td>44281</td>\n",
       "      <td>OH</td>\n",
       "      <td>US</td>\n",
       "      <td>NaN</td>\n",
       "      <td>Deric Kenne</td>\n",
       "      <td>547 Symphony Way</td>\n",
       "      <td>547 Symphony Way</td>\n",
       "      <td>NaN</td>\n",
       "      <td>NaN</td>\n",
       "      <td>Wadsworth</td>\n",
       "      <td>44281</td>\n",
       "      <td>OH</td>\n",
       "      <td>US</td>\n",
       "      <td>NaN</td>\n",
       "      <td>NaN</td>\n",
       "      <td>Shopify Payments</td>\n",
       "      <td>c24005816451236.1</td>\n",
       "      <td>0.0</td>\n",
       "      <td>ExplorerClothing</td>\n",
       "      <td>0.0</td>\n",
       "      <td>4.541752e+12</td>\n",
       "      <td>Low</td>\n",
       "      <td>web</td>\n",
       "      <td>0.0</td>\n",
       "      <td>NaN</td>\n",
       "      <td>NaN</td>\n",
       "      <td>1.330631e+10</td>\n",
       "      <td>Ohio</td>\n",
       "      <td>Ohio</td>\n",
       "      <td>Hoodie</td>\n",
       "    </tr>\n",
       "    <tr>\n",
       "      <th>1</th>\n",
       "      <td>#1080</td>\n",
       "      <td>NaN</td>\n",
       "      <td>paid</td>\n",
       "      <td>NaN</td>\n",
       "      <td>fulfilled</td>\n",
       "      <td>2022-02-15 10:41:34 -0500</td>\n",
       "      <td>no</td>\n",
       "      <td>USD</td>\n",
       "      <td>0.0</td>\n",
       "      <td>0.00</td>\n",
       "      <td>0.0</td>\n",
       "      <td>0.00</td>\n",
       "      <td>anthony100</td>\n",
       "      <td>35.0</td>\n",
       "      <td>Standard (USPS) 5-7 Days</td>\n",
       "      <td>2022-02-14 23:36:42 -0500</td>\n",
       "      <td>1</td>\n",
       "      <td>Explorer Vintage Crewnecks - S</td>\n",
       "      <td>35.0</td>\n",
       "      <td>NaN</td>\n",
       "      <td>True</td>\n",
       "      <td>True</td>\n",
       "      <td>fulfilled</td>\n",
       "      <td>Anthony  Gattoni</td>\n",
       "      <td>12058 Chandler Drive</td>\n",
       "      <td>12058 Chandler Drive</td>\n",
       "      <td>NaN</td>\n",
       "      <td>NaN</td>\n",
       "      <td>Plymouth</td>\n",
       "      <td>48170</td>\n",
       "      <td>MI</td>\n",
       "      <td>US</td>\n",
       "      <td>NaN</td>\n",
       "      <td>Anthony  Gattoni</td>\n",
       "      <td>12058 Chandler Drive</td>\n",
       "      <td>12058 Chandler Drive</td>\n",
       "      <td>NaN</td>\n",
       "      <td>NaN</td>\n",
       "      <td>Plymouth</td>\n",
       "      <td>48170</td>\n",
       "      <td>MI</td>\n",
       "      <td>US</td>\n",
       "      <td>NaN</td>\n",
       "      <td>NaN</td>\n",
       "      <td>NaN</td>\n",
       "      <td>NaN</td>\n",
       "      <td>0.0</td>\n",
       "      <td>ExplorerClothing</td>\n",
       "      <td>0.0</td>\n",
       "      <td>4.473488e+12</td>\n",
       "      <td>Low</td>\n",
       "      <td>web</td>\n",
       "      <td>0.0</td>\n",
       "      <td>NaN</td>\n",
       "      <td>NaN</td>\n",
       "      <td>1.734377e+10</td>\n",
       "      <td>Michigan</td>\n",
       "      <td>Michigan</td>\n",
       "      <td>Crewneck</td>\n",
       "    </tr>\n",
       "    <tr>\n",
       "      <th>2</th>\n",
       "      <td>#1079</td>\n",
       "      <td>NaN</td>\n",
       "      <td>paid</td>\n",
       "      <td>2021-12-13 19:43:08 -0500</td>\n",
       "      <td>fulfilled</td>\n",
       "      <td>2021-12-14 14:04:03 -0500</td>\n",
       "      <td>no</td>\n",
       "      <td>USD</td>\n",
       "      <td>35.0</td>\n",
       "      <td>0.00</td>\n",
       "      <td>2.1</td>\n",
       "      <td>37.10</td>\n",
       "      <td>NaN</td>\n",
       "      <td>0.0</td>\n",
       "      <td>Standard (USPS) 5-7 Days</td>\n",
       "      <td>2021-12-13 19:43:07 -0500</td>\n",
       "      <td>1</td>\n",
       "      <td>Explorer Vintage Crewnecks - L</td>\n",
       "      <td>35.0</td>\n",
       "      <td>NaN</td>\n",
       "      <td>True</td>\n",
       "      <td>True</td>\n",
       "      <td>fulfilled</td>\n",
       "      <td>Eli Smith</td>\n",
       "      <td>11162 Rivendell Court</td>\n",
       "      <td>11162 Rivendell Court</td>\n",
       "      <td>NaN</td>\n",
       "      <td>NaN</td>\n",
       "      <td>Pinckney</td>\n",
       "      <td>48169</td>\n",
       "      <td>MI</td>\n",
       "      <td>US</td>\n",
       "      <td>NaN</td>\n",
       "      <td>Eli Smith</td>\n",
       "      <td>11162 Rivendell Court</td>\n",
       "      <td>11162 Rivendell Court</td>\n",
       "      <td>NaN</td>\n",
       "      <td>NaN</td>\n",
       "      <td>Pinckney</td>\n",
       "      <td>48169</td>\n",
       "      <td>MI</td>\n",
       "      <td>US</td>\n",
       "      <td>NaN</td>\n",
       "      <td>NaN</td>\n",
       "      <td>Shopify Payments</td>\n",
       "      <td>c22866461687972.1</td>\n",
       "      <td>0.0</td>\n",
       "      <td>ExplorerClothing</td>\n",
       "      <td>0.0</td>\n",
       "      <td>4.380866e+12</td>\n",
       "      <td>Low</td>\n",
       "      <td>web</td>\n",
       "      <td>0.0</td>\n",
       "      <td>Michigan State Tax 6%</td>\n",
       "      <td>2.1</td>\n",
       "      <td>1.734883e+10</td>\n",
       "      <td>Michigan</td>\n",
       "      <td>Michigan</td>\n",
       "      <td>Crewneck</td>\n",
       "    </tr>\n",
       "  </tbody>\n",
       "</table>\n",
       "</div>"
      ],
      "text/plain": [
       "    Name Email Financial Status                    Paid at Fulfillment Status  \\\n",
       "0  #1081   NaN             paid  2022-04-06 21:52:40 -0400          fulfilled   \n",
       "1  #1080   NaN             paid                        NaN          fulfilled   \n",
       "2  #1079   NaN             paid  2021-12-13 19:43:08 -0500          fulfilled   \n",
       "\n",
       "                Fulfilled at Accepts Marketing Currency  Subtotal  Shipping  \\\n",
       "0  2022-04-07 12:20:58 -0400                no      USD      35.0      2.74   \n",
       "1  2022-02-15 10:41:34 -0500                no      USD       0.0      0.00   \n",
       "2  2021-12-14 14:04:03 -0500                no      USD      35.0      0.00   \n",
       "\n",
       "   Taxes  Total Discount Code  Discount Amount            Shipping Method  \\\n",
       "0    0.0  37.74           NaN              0.0  Expedited (USPS) 1-4 Days   \n",
       "1    0.0   0.00    anthony100             35.0   Standard (USPS) 5-7 Days   \n",
       "2    2.1  37.10           NaN              0.0   Standard (USPS) 5-7 Days   \n",
       "\n",
       "                  Created at  Lineitem quantity  \\\n",
       "0  2022-04-06 21:52:39 -0400                  1   \n",
       "1  2022-02-14 23:36:42 -0500                  1   \n",
       "2  2021-12-13 19:43:07 -0500                  1   \n",
       "\n",
       "                    Lineitem name  Lineitem price  Lineitem compare at price  \\\n",
       "0       White R Hepler Hoodie - S            35.0                        NaN   \n",
       "1  Explorer Vintage Crewnecks - S            35.0                        NaN   \n",
       "2  Explorer Vintage Crewnecks - L            35.0                        NaN   \n",
       "\n",
       "   Lineitem requires shipping  Lineitem taxable Lineitem fulfillment status  \\\n",
       "0                        True              True                   fulfilled   \n",
       "1                        True              True                   fulfilled   \n",
       "2                        True              True                   fulfilled   \n",
       "\n",
       "        Billing Name         Billing Street       Billing Address1  \\\n",
       "0        Deric Kenne       547 Symphony Way       547 Symphony Way   \n",
       "1  Anthony  Gattoni    12058 Chandler Drive   12058 Chandler Drive   \n",
       "2          Eli Smith  11162 Rivendell Court  11162 Rivendell Court   \n",
       "\n",
       "  Billing Address2 Billing Company Billing City Billing Zip Billing Province  \\\n",
       "0              NaN             NaN    Wadsworth       44281               OH   \n",
       "1              NaN             NaN     Plymouth       48170               MI   \n",
       "2              NaN             NaN     Pinckney       48169               MI   \n",
       "\n",
       "  Billing Country Billing Phone      Shipping Name        Shipping Street  \\\n",
       "0              US           NaN        Deric Kenne       547 Symphony Way   \n",
       "1              US           NaN  Anthony  Gattoni    12058 Chandler Drive   \n",
       "2              US           NaN          Eli Smith  11162 Rivendell Court   \n",
       "\n",
       "       Shipping Address1 Shipping Address2 Shipping Company Shipping City  \\\n",
       "0       547 Symphony Way               NaN              NaN     Wadsworth   \n",
       "1   12058 Chandler Drive               NaN              NaN      Plymouth   \n",
       "2  11162 Rivendell Court               NaN              NaN      Pinckney   \n",
       "\n",
       "  Shipping Zip Shipping Province Shipping Country Shipping Phone Notes  \\\n",
       "0        44281                OH               US            NaN   NaN   \n",
       "1        48170                MI               US            NaN   NaN   \n",
       "2        48169                MI               US            NaN   NaN   \n",
       "\n",
       "     Payment Method  Payment Reference  Refunded Amount            Vendor  \\\n",
       "0  Shopify Payments  c24005816451236.1              0.0  ExplorerClothing   \n",
       "1               NaN                NaN              0.0  ExplorerClothing   \n",
       "2  Shopify Payments  c22866461687972.1              0.0  ExplorerClothing   \n",
       "\n",
       "   Outstanding Balance            Id Risk Level Source  Lineitem discount  \\\n",
       "0                  0.0  4.541752e+12        Low    web                0.0   \n",
       "1                  0.0  4.473488e+12        Low    web                0.0   \n",
       "2                  0.0  4.380866e+12        Low    web                0.0   \n",
       "\n",
       "              Tax 1 Name  Tax 1 Value         Phone Billing Province Name  \\\n",
       "0                    NaN          NaN  1.330631e+10                  Ohio   \n",
       "1                    NaN          NaN  1.734377e+10              Michigan   \n",
       "2  Michigan State Tax 6%          2.1  1.734883e+10              Michigan   \n",
       "\n",
       "  Shipping Province Name Item Type  \n",
       "0                   Ohio    Hoodie  \n",
       "1               Michigan  Crewneck  \n",
       "2               Michigan  Crewneck  "
      ]
     },
     "execution_count": 15,
     "metadata": {},
     "output_type": "execute_result"
    }
   ],
   "source": [
    "newdf.head(3)"
   ]
  },
  {
   "cell_type": "markdown",
   "id": "3aab8709",
   "metadata": {},
   "source": [
    "# Number of True Values per Column"
   ]
  },
  {
   "cell_type": "code",
   "execution_count": 16,
   "id": "b3293a9b",
   "metadata": {},
   "outputs": [
    {
     "data": {
      "text/plain": [
       "Name                           98\n",
       "Email                          72\n",
       "Financial Status               81\n",
       "Paid at                        79\n",
       "Fulfillment Status             81\n",
       "Fulfilled at                   80\n",
       "Accepts Marketing              81\n",
       "Currency                       81\n",
       "Subtotal                       81\n",
       "Shipping                       81\n",
       "Taxes                          81\n",
       "Total                          81\n",
       "Discount Code                  16\n",
       "Discount Amount                81\n",
       "Shipping Method                81\n",
       "Created at                     98\n",
       "Lineitem quantity              98\n",
       "Lineitem name                  98\n",
       "Lineitem price                 98\n",
       "Lineitem compare at price      31\n",
       "Lineitem requires shipping     98\n",
       "Lineitem taxable               98\n",
       "Lineitem fulfillment status    98\n",
       "Billing Name                   81\n",
       "Billing Street                 81\n",
       "Billing Address1               81\n",
       "Billing Address2                9\n",
       "Billing Company                 2\n",
       "Billing City                   81\n",
       "Billing Zip                    81\n",
       "Billing Province               81\n",
       "Billing Country                81\n",
       "Billing Phone                  14\n",
       "Shipping Name                  81\n",
       "Shipping Street                81\n",
       "Shipping Address1              81\n",
       "Shipping Address2              12\n",
       "Shipping Company                2\n",
       "Shipping City                  81\n",
       "Shipping Zip                   81\n",
       "Shipping Province              81\n",
       "Shipping Country               81\n",
       "Shipping Phone                 14\n",
       "Notes                           1\n",
       "Payment Method                 80\n",
       "Payment Reference              80\n",
       "Refunded Amount                81\n",
       "Vendor                         97\n",
       "Outstanding Balance            81\n",
       "Id                             81\n",
       "Risk Level                     81\n",
       "Source                         81\n",
       "Lineitem discount              98\n",
       "Tax 1 Name                     39\n",
       "Tax 1 Value                    39\n",
       "Phone                          37\n",
       "Billing Province Name          81\n",
       "Shipping Province Name         81\n",
       "Item Type                      97\n",
       "dtype: int64"
      ]
     },
     "execution_count": 16,
     "metadata": {},
     "output_type": "execute_result"
    }
   ],
   "source": [
    "newdf.count()"
   ]
  },
  {
   "cell_type": "markdown",
   "id": "6af76bd8",
   "metadata": {},
   "source": [
    "# All States Shipped to"
   ]
  },
  {
   "cell_type": "code",
   "execution_count": 7,
   "id": "1df78dd5",
   "metadata": {},
   "outputs": [
    {
     "data": {
      "text/plain": [
       "['Ohio',\n",
       " 'Michigan',\n",
       " 'Texas',\n",
       " 'California',\n",
       " 'Florida',\n",
       " 'Alabama',\n",
       " 'Missouri',\n",
       " 'Indiana',\n",
       " 'South Carolina',\n",
       " nan,\n",
       " 'Arizona',\n",
       " 'Massachusetts',\n",
       " 'Iowa',\n",
       " 'New York',\n",
       " 'Pennsylvania',\n",
       " 'Idaho',\n",
       " 'Maryland',\n",
       " 'Minnesota',\n",
       " 'Wisconsin',\n",
       " 'Colorado',\n",
       " 'Connecticut']"
      ]
     },
     "execution_count": 7,
     "metadata": {},
     "output_type": "execute_result"
    }
   ],
   "source": [
    "list(newdf['Shipping Province Name'].unique())"
   ]
  },
  {
   "cell_type": "markdown",
   "id": "401d4bce",
   "metadata": {},
   "source": [
    "# Out of State Orders"
   ]
  },
  {
   "cell_type": "code",
   "execution_count": 8,
   "id": "bc26bb06",
   "metadata": {},
   "outputs": [],
   "source": [
    "nomichigan = newdf[(newdf['Shipping Province Name'] != 'Michigan')]\n",
    "\n",
    "outofstate = nomichigan[nomichigan['Shipping Province Name'].notnull()]"
   ]
  },
  {
   "cell_type": "code",
   "execution_count": 9,
   "id": "2ab6c99b",
   "metadata": {},
   "outputs": [
    {
     "data": {
      "text/plain": [
       "41"
      ]
     },
     "execution_count": 9,
     "metadata": {},
     "output_type": "execute_result"
    }
   ],
   "source": [
    "outofstate['Name'].count()"
   ]
  },
  {
   "cell_type": "markdown",
   "id": "2d30054b",
   "metadata": {},
   "source": [
    "# Orders per State"
   ]
  },
  {
   "cell_type": "code",
   "execution_count": 10,
   "id": "97f22533",
   "metadata": {},
   "outputs": [
    {
     "data": {
      "text/plain": [
       "Shipping Province Name\n",
       "Alabama            1\n",
       "Arizona            1\n",
       "California         6\n",
       "Colorado           1\n",
       "Connecticut        1\n",
       "Florida            4\n",
       "Idaho              2\n",
       "Indiana            2\n",
       "Iowa               1\n",
       "Maryland           1\n",
       "Massachusetts      1\n",
       "Michigan          40\n",
       "Minnesota          1\n",
       "Missouri           1\n",
       "New York           1\n",
       "Ohio               3\n",
       "Pennsylvania       1\n",
       "South Carolina     2\n",
       "Texas              8\n",
       "Wisconsin          3\n",
       "Name: Name, dtype: int64"
      ]
     },
     "execution_count": 10,
     "metadata": {},
     "output_type": "execute_result"
    }
   ],
   "source": [
    "stategrouped = newdf.groupby('Shipping Province Name').count()\n",
    "\n",
    "stategrouped['Name']"
   ]
  },
  {
   "cell_type": "markdown",
   "id": "53c9ef7d",
   "metadata": {},
   "source": [
    "# Graph of Time of Order Placed"
   ]
  },
  {
   "cell_type": "code",
   "execution_count": 11,
   "id": "b7d2f3f4",
   "metadata": {
    "scrolled": true
   },
   "outputs": [
    {
     "data": {
      "image/png": "[encoded data removed]",
      "text/plain": [
       "<Figure size 720x360 with 1 Axes>"
      ]
     },
     "metadata": {
      "needs_background": "light"
     },
     "output_type": "display_data"
    }
   ],
   "source": [
    "newdf['Created at'] = pd.to_datetime(newdf['Created at'], utc = True)\n",
    "newdf['Hour'] = newdf['Created at'].dt.hour\n",
    "hours = [hour for hour, newdf in newdf.groupby('Hour')]\n",
    "\n",
    "resultstoop = newdf.groupby('Hour').sum()\n",
    "\n",
    "plt.figure(figsize = (10,5))\n",
    "plt.bar(hours, resultstoop['Total'])\n",
    "plt.xticks(np.arange(min(hours), 24))\n",
    "plt.xlabel('Hour', size = 14)\n",
    "plt.ylabel('Sales (USD)', size = 14)\n",
    "plt.title('Sales Grouped by Hour', size = 20)\n",
    "plt.grid()"
   ]
  },
  {
   "cell_type": "markdown",
   "id": "02a4789e",
   "metadata": {},
   "source": [
    "# Graph of Orders by Day of Week"
   ]
  },
  {
   "cell_type": "code",
   "execution_count": 18,
   "id": "22f76df6",
   "metadata": {},
   "outputs": [
    {
     "data": {
      "text/plain": [
       "Text(0.5, 1.0, 'Sales Grouped by Day')"
      ]
     },
     "execution_count": 18,
     "metadata": {},
     "output_type": "execute_result"
    },
    {
     "data": {
      "image/png": "[encoded data removed]",
      "text/plain": [
       "<Figure size 720x360 with 1 Axes>"
      ]
     },
     "metadata": {
      "needs_background": "light"
     },
     "output_type": "display_data"
    }
   ],
   "source": [
    "newdf['Created at'] = pd.to_datetime(newdf['Created at'], utc = True)\n",
    "newdf['Day'] = newdf['Created at'].dt.day_name()\n",
    "days = [day for day, newdf in newdf.groupby('Day')]\n",
    "\n",
    "resultstoop = newdf.groupby('Day').sum()\n",
    "\n",
    "plt.figure(figsize = (10,5))\n",
    "plt.bar(days, resultstoop['Total'])\n",
    "plt.xlabel('Day', size = 14)\n",
    "plt.ylabel('Sales (USD)', size = 14)\n",
    "plt.title('Sales Grouped by Day', size = 20)"
   ]
  },
  {
   "cell_type": "code",
   "execution_count": null,
   "id": "2b9cae4f",
   "metadata": {},
   "outputs": [],
   "source": [
    "newdf.groupby('Day').describe()"
   ]
  },
  {
   "cell_type": "markdown",
   "id": "9d133822",
   "metadata": {},
   "source": [
    "# Average Time to Fulfill"
   ]
  },
  {
   "cell_type": "code",
   "execution_count": null,
   "id": "fc03add0",
   "metadata": {},
   "outputs": [],
   "source": [
    "timetofulfill = (pd.to_datetime(newdf['Fulfilled at'])-pd.to_datetime(newdf['Created at'])).dropna()\n",
    "\n",
    "timetofulfill.describe()"
   ]
  },
  {
   "cell_type": "markdown",
   "id": "31cfda81",
   "metadata": {},
   "source": [
    "# Average Sale per Type of Clothing"
   ]
  },
  {
   "cell_type": "markdown",
   "id": "3d21766d",
   "metadata": {},
   "source": [
    "## All Types"
   ]
  },
  {
   "cell_type": "markdown",
   "id": "cf4dfadd",
   "metadata": {},
   "source": [
    "##### Average Price"
   ]
  },
  {
   "cell_type": "code",
   "execution_count": null,
   "id": "8b352356",
   "metadata": {},
   "outputs": [],
   "source": [
    "newdf['Total'].mean()"
   ]
  },
  {
   "cell_type": "markdown",
   "id": "0238cad7",
   "metadata": {},
   "source": [
    "##### Number Sold"
   ]
  },
  {
   "cell_type": "code",
   "execution_count": null,
   "id": "8034c908",
   "metadata": {},
   "outputs": [],
   "source": [
    "newdf['Lineitem name'].count()"
   ]
  },
  {
   "cell_type": "markdown",
   "id": "42805d0a",
   "metadata": {},
   "source": [
    "##### Total Revenue"
   ]
  },
  {
   "cell_type": "code",
   "execution_count": null,
   "id": "e9821a95",
   "metadata": {},
   "outputs": [],
   "source": [
    "newdf['Total'].sum()"
   ]
  },
  {
   "cell_type": "markdown",
   "id": "44c2587c",
   "metadata": {},
   "source": [
    "## Hat"
   ]
  },
  {
   "cell_type": "markdown",
   "id": "8ae932df",
   "metadata": {},
   "source": [
    "### Current Price"
   ]
  },
  {
   "cell_type": "code",
   "execution_count": 21,
   "id": "6507420f",
   "metadata": {},
   "outputs": [
    {
     "name": "stdout",
     "output_type": "stream",
     "text": [
      "$12.50\n",
      "\n"
     ]
    }
   ],
   "source": [
    "from bs4 import BeautifulSoup\n",
    "import requests\n",
    "\n",
    "url = 'https://explorerclothing.shop/collections/spring-collection'\n",
    "page = requests.get(url)\n",
    "soup = BeautifulSoup(page.content, 'html.parser')\n",
    "price = soup.find('span', class_ = 'price-item price-item--regular').text\n",
    "\n",
    "print(price)"
   ]
  },
  {
   "cell_type": "markdown",
   "id": "f9d28ed3",
   "metadata": {},
   "source": [
    "##### Average Price"
   ]
  },
  {
   "cell_type": "code",
   "execution_count": null,
   "id": "213f81f6",
   "metadata": {},
   "outputs": [],
   "source": [
    "hats = newdf[newdf['Lineitem name'].str.contains('Hat')]\n",
    "\n",
    "hats['Total'].mean()"
   ]
  },
  {
   "cell_type": "markdown",
   "id": "fbf988af",
   "metadata": {},
   "source": [
    "##### Number Sold"
   ]
  },
  {
   "cell_type": "code",
   "execution_count": null,
   "id": "4041cccf",
   "metadata": {},
   "outputs": [],
   "source": [
    "hats['Name'].count()"
   ]
  },
  {
   "cell_type": "markdown",
   "id": "fcf93730",
   "metadata": {},
   "source": [
    "##### Total Revenue"
   ]
  },
  {
   "cell_type": "code",
   "execution_count": null,
   "id": "f6026b53",
   "metadata": {},
   "outputs": [],
   "source": [
    "hats['Total'].sum()"
   ]
  },
  {
   "cell_type": "markdown",
   "id": "4b602fa1",
   "metadata": {},
   "source": [
    "## Hoodie"
   ]
  },
  {
   "cell_type": "markdown",
   "id": "e0f015ba",
   "metadata": {},
   "source": [
    "##### Average Price"
   ]
  },
  {
   "cell_type": "code",
   "execution_count": null,
   "id": "1fb69156",
   "metadata": {},
   "outputs": [],
   "source": [
    "hoodies = newdf[newdf['Lineitem name'].str.contains('Hoodie')]\n",
    "\n",
    "hoodies['Total'].mean()"
   ]
  },
  {
   "cell_type": "markdown",
   "id": "e008b1fe",
   "metadata": {},
   "source": [
    "##### Number Sold"
   ]
  },
  {
   "cell_type": "code",
   "execution_count": null,
   "id": "390beeb6",
   "metadata": {},
   "outputs": [],
   "source": [
    "hoodies['Name'].count()"
   ]
  },
  {
   "cell_type": "markdown",
   "id": "5f11ecfa",
   "metadata": {},
   "source": [
    "##### Total Revenue"
   ]
  },
  {
   "cell_type": "code",
   "execution_count": null,
   "id": "75770557",
   "metadata": {},
   "outputs": [],
   "source": [
    "hoodies['Total'].sum()"
   ]
  },
  {
   "cell_type": "markdown",
   "id": "435786a7",
   "metadata": {},
   "source": [
    "## Crewneck"
   ]
  },
  {
   "cell_type": "markdown",
   "id": "7d97b073",
   "metadata": {},
   "source": [
    "##### Average Price"
   ]
  },
  {
   "cell_type": "code",
   "execution_count": null,
   "id": "2e1e474e",
   "metadata": {
    "scrolled": true
   },
   "outputs": [],
   "source": [
    "crews = newdf[newdf['Lineitem name'].str.contains('Crewneck')]\n",
    "\n",
    "crews['Total'].mean()"
   ]
  },
  {
   "cell_type": "markdown",
   "id": "1f017e25",
   "metadata": {},
   "source": [
    "##### Number Sold"
   ]
  },
  {
   "cell_type": "code",
   "execution_count": null,
   "id": "eef0bb64",
   "metadata": {},
   "outputs": [],
   "source": [
    "crews['Name'].count()"
   ]
  },
  {
   "cell_type": "markdown",
   "id": "cd5eb630",
   "metadata": {},
   "source": [
    "##### Total Revenue"
   ]
  },
  {
   "cell_type": "code",
   "execution_count": null,
   "id": "b2b10138",
   "metadata": {},
   "outputs": [],
   "source": [
    "crews['Total'].sum()"
   ]
  },
  {
   "cell_type": "markdown",
   "id": "2ad90c69",
   "metadata": {},
   "source": [
    "# Graph of Type of Clothing"
   ]
  },
  {
   "cell_type": "code",
   "execution_count": null,
   "id": "15155641",
   "metadata": {},
   "outputs": [],
   "source": [
    "resultsct = newdf.groupby(['Item Type']).sum()\n",
    "typeofclothing = [top for top, newdf in newdf.groupby('Item Type')]\n",
    "\n",
    "plt.figure(figsize = (10,5))\n",
    "plt.bar(typeofclothing, resultsct['Total'])\n",
    "plt.xlabel('Clothing Type', size = 14)\n",
    "plt.ylabel('Sales (USD)', size = 14)\n",
    "plt.title('Sales by Clothing Type', size = 20)\n",
    "plt.grid()\n",
    "plt.show()"
   ]
  },
  {
   "cell_type": "markdown",
   "id": "fdc9e248",
   "metadata": {},
   "source": [
    "# Total Revenue"
   ]
  },
  {
   "cell_type": "code",
   "execution_count": null,
   "id": "1929dd42",
   "metadata": {},
   "outputs": [],
   "source": [
    "newdf['Total'].sum()"
   ]
  },
  {
   "cell_type": "markdown",
   "id": "ae7fb507",
   "metadata": {},
   "source": [
    "# 10 Most Sold Products"
   ]
  },
  {
   "cell_type": "code",
   "execution_count": null,
   "id": "9a2ca6c1",
   "metadata": {},
   "outputs": [],
   "source": [
    "itemcount = newdf.groupby('Lineitem name').count()\n",
    "\n",
    "itemcount['Name'].sort_values(ascending = False).head(10)"
   ]
  },
  {
   "cell_type": "markdown",
   "id": "29c9b7a5",
   "metadata": {},
   "source": [
    "# Number of Each Size Ordered"
   ]
  },
  {
   "cell_type": "markdown",
   "id": "c4556a48",
   "metadata": {},
   "source": [
    "### Small"
   ]
  },
  {
   "cell_type": "code",
   "execution_count": null,
   "id": "9f3316e0",
   "metadata": {},
   "outputs": [],
   "source": [
    "Small = newdf[newdf['Lineitem name'].str.contains(' S')].count()\n",
    "\n",
    "Small['Name']"
   ]
  },
  {
   "cell_type": "markdown",
   "id": "c63b641e",
   "metadata": {},
   "source": [
    "### Medium"
   ]
  },
  {
   "cell_type": "code",
   "execution_count": null,
   "id": "3774ec6e",
   "metadata": {},
   "outputs": [],
   "source": [
    "Medium = newdf[newdf['Lineitem name'].str.contains(' M')].count()\n",
    "\n",
    "Medium['Name']"
   ]
  },
  {
   "cell_type": "markdown",
   "id": "701645b0",
   "metadata": {},
   "source": [
    "### Large"
   ]
  },
  {
   "cell_type": "code",
   "execution_count": null,
   "id": "44969b8f",
   "metadata": {},
   "outputs": [],
   "source": [
    "Large = newdf[newdf['Lineitem name'].str.contains(' L')].count()\n",
    "\n",
    "Large['Name']"
   ]
  },
  {
   "cell_type": "markdown",
   "id": "34ccc81a",
   "metadata": {},
   "source": [
    "### Extra Large"
   ]
  },
  {
   "cell_type": "code",
   "execution_count": null,
   "id": "8c5e9429",
   "metadata": {},
   "outputs": [],
   "source": [
    "XL = newdf[newdf['Lineitem name'].str.contains(' XL')].count()\n",
    "\n",
    "XL['Name']"
   ]
  },
  {
   "cell_type": "markdown",
   "id": "ba46e459",
   "metadata": {},
   "source": [
    "### Double Extra Large"
   ]
  },
  {
   "cell_type": "code",
   "execution_count": null,
   "id": "760dad92",
   "metadata": {},
   "outputs": [],
   "source": [
    "XXL = newdf[newdf['Lineitem name'].str.contains(' XXL')].count()\n",
    "\n",
    "XXL['Name']"
   ]
  }
 ],
 "metadata": {
  "kernelspec": {
   "display_name": "Python 3 (ipykernel)",
   "language": "python",
   "name": "python3"
  },
  "language_info": {
   "codemirror_mode": {
    "name": "ipython",
    "version": 3
   },
   "file_extension": ".py",
   "mimetype": "text/x-python",
   "name": "python",
   "nbconvert_exporter": "python",
   "pygments_lexer": "ipython3",
   "version": "3.9.7"
  }
 },
 "nbformat": 4,
 "nbformat_minor": 5
}
