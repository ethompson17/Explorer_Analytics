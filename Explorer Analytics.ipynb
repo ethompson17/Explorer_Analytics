{
 "cells": [
  {
   "cell_type": "code",
   "execution_count": 1,
   "id": "61270f09",
   "metadata": {},
   "outputs": [],
   "source": [
    "import pandas as pd\n",
    "import numpy as np\n",
    "import matplotlib.pyplot as plt\n",
    "\n",
    "\n",
    "df = pd.read_csv('https://raw.githubusercontent.com/ethompson17/Explorer_Analytics/main/orders_export_1.csv')\n",
    "\n",
    "pd.options.display.max_rows = 100\n",
    "pd.options.display.max_columns = 100"
   ]
  },
  {
   "cell_type": "markdown",
   "id": "d70aea63",
   "metadata": {},
   "source": [
    "### Dirty Data"
   ]
  },
  {
   "cell_type": "code",
   "execution_count": 119,
   "id": "0a7a8b6a",
   "metadata": {},
   "outputs": [
    {
     "data": {
      "text/html": [
       "<div>\n",
       "<style scoped>\n",
       "    .dataframe tbody tr th:only-of-type {\n",
       "        vertical-align: middle;\n",
       "    }\n",
       "\n",
       "    .dataframe tbody tr th {\n",
       "        vertical-align: top;\n",
       "    }\n",
       "\n",
       "    .dataframe thead th {\n",
       "        text-align: right;\n",
       "    }\n",
       "</style>\n",
       "<table border=\"1\" class=\"dataframe\">\n",
       "  <thead>\n",
       "    <tr style=\"text-align: right;\">\n",
       "      <th></th>\n",
       "      <th>Name</th>\n",
       "      <th>Email</th>\n",
       "      <th>Financial Status</th>\n",
       "      <th>Paid at</th>\n",
       "      <th>Fulfillment Status</th>\n",
       "      <th>Fulfilled at</th>\n",
       "      <th>Accepts Marketing</th>\n",
       "      <th>Currency</th>\n",
       "      <th>Subtotal</th>\n",
       "      <th>Shipping</th>\n",
       "      <th>Taxes</th>\n",
       "      <th>Total</th>\n",
       "      <th>Discount Code</th>\n",
       "      <th>Discount Amount</th>\n",
       "      <th>Shipping Method</th>\n",
       "      <th>Created at</th>\n",
       "      <th>Lineitem quantity</th>\n",
       "      <th>Lineitem name</th>\n",
       "      <th>Lineitem price</th>\n",
       "      <th>Lineitem compare at price</th>\n",
       "      <th>Lineitem requires shipping</th>\n",
       "      <th>Lineitem taxable</th>\n",
       "      <th>Lineitem fulfillment status</th>\n",
       "      <th>Billing Name</th>\n",
       "      <th>Billing Street</th>\n",
       "      <th>Billing Address1</th>\n",
       "      <th>Billing Address2</th>\n",
       "      <th>Billing Company</th>\n",
       "      <th>Billing City</th>\n",
       "      <th>Billing Zip</th>\n",
       "      <th>Billing Province</th>\n",
       "      <th>Billing Country</th>\n",
       "      <th>Billing Phone</th>\n",
       "      <th>Shipping Name</th>\n",
       "      <th>Shipping Street</th>\n",
       "      <th>Shipping Address1</th>\n",
       "      <th>Shipping Address2</th>\n",
       "      <th>Shipping Company</th>\n",
       "      <th>Shipping City</th>\n",
       "      <th>Shipping Zip</th>\n",
       "      <th>Shipping Province</th>\n",
       "      <th>Shipping Country</th>\n",
       "      <th>Shipping Phone</th>\n",
       "      <th>Notes</th>\n",
       "      <th>Payment Method</th>\n",
       "      <th>Payment Reference</th>\n",
       "      <th>Refunded Amount</th>\n",
       "      <th>Vendor</th>\n",
       "      <th>Outstanding Balance</th>\n",
       "      <th>Id</th>\n",
       "      <th>Risk Level</th>\n",
       "      <th>Source</th>\n",
       "      <th>Lineitem discount</th>\n",
       "      <th>Tax 1 Name</th>\n",
       "      <th>Tax 1 Value</th>\n",
       "      <th>Phone</th>\n",
       "      <th>Billing Province Name</th>\n",
       "      <th>Shipping Province Name</th>\n",
       "    </tr>\n",
       "  </thead>\n",
       "  <tbody>\n",
       "    <tr>\n",
       "      <th>0</th>\n",
       "      <td>#1081</td>\n",
       "      <td>NaN</td>\n",
       "      <td>paid</td>\n",
       "      <td>2022-04-06 21:52:40 -0400</td>\n",
       "      <td>fulfilled</td>\n",
       "      <td>2022-04-07 12:20:58 -0400</td>\n",
       "      <td>no</td>\n",
       "      <td>USD</td>\n",
       "      <td>35.0</td>\n",
       "      <td>2.74</td>\n",
       "      <td>0.0</td>\n",
       "      <td>37.74</td>\n",
       "      <td>NaN</td>\n",
       "      <td>0.0</td>\n",
       "      <td>Expedited (USPS) 1-4 Days</td>\n",
       "      <td>2022-04-06 21:52:39 -0400</td>\n",
       "      <td>1</td>\n",
       "      <td>White R Hepler Hoodie - S</td>\n",
       "      <td>35.0</td>\n",
       "      <td>NaN</td>\n",
       "      <td>True</td>\n",
       "      <td>True</td>\n",
       "      <td>fulfilled</td>\n",
       "      <td>Deric Kenne</td>\n",
       "      <td>547 Symphony Way</td>\n",
       "      <td>547 Symphony Way</td>\n",
       "      <td>NaN</td>\n",
       "      <td>NaN</td>\n",
       "      <td>Wadsworth</td>\n",
       "      <td>44281</td>\n",
       "      <td>OH</td>\n",
       "      <td>US</td>\n",
       "      <td>NaN</td>\n",
       "      <td>Deric Kenne</td>\n",
       "      <td>547 Symphony Way</td>\n",
       "      <td>547 Symphony Way</td>\n",
       "      <td>NaN</td>\n",
       "      <td>NaN</td>\n",
       "      <td>Wadsworth</td>\n",
       "      <td>44281</td>\n",
       "      <td>OH</td>\n",
       "      <td>US</td>\n",
       "      <td>NaN</td>\n",
       "      <td>NaN</td>\n",
       "      <td>Shopify Payments</td>\n",
       "      <td>c24005816451236.1</td>\n",
       "      <td>0.0</td>\n",
       "      <td>ExplorerClothing</td>\n",
       "      <td>0.0</td>\n",
       "      <td>4.541752e+12</td>\n",
       "      <td>Low</td>\n",
       "      <td>web</td>\n",
       "      <td>0.0</td>\n",
       "      <td>NaN</td>\n",
       "      <td>NaN</td>\n",
       "      <td>1.330631e+10</td>\n",
       "      <td>Ohio</td>\n",
       "      <td>Ohio</td>\n",
       "    </tr>\n",
       "    <tr>\n",
       "      <th>1</th>\n",
       "      <td>#1080</td>\n",
       "      <td>NaN</td>\n",
       "      <td>paid</td>\n",
       "      <td>NaN</td>\n",
       "      <td>fulfilled</td>\n",
       "      <td>2022-02-15 10:41:34 -0500</td>\n",
       "      <td>no</td>\n",
       "      <td>USD</td>\n",
       "      <td>0.0</td>\n",
       "      <td>0.00</td>\n",
       "      <td>0.0</td>\n",
       "      <td>0.00</td>\n",
       "      <td>anthony100</td>\n",
       "      <td>35.0</td>\n",
       "      <td>Standard (USPS) 5-7 Days</td>\n",
       "      <td>2022-02-14 23:36:42 -0500</td>\n",
       "      <td>1</td>\n",
       "      <td>Explorer Vintage Crewnecks - S</td>\n",
       "      <td>35.0</td>\n",
       "      <td>NaN</td>\n",
       "      <td>True</td>\n",
       "      <td>True</td>\n",
       "      <td>fulfilled</td>\n",
       "      <td>Anthony  Gattoni</td>\n",
       "      <td>12058 Chandler Drive</td>\n",
       "      <td>12058 Chandler Drive</td>\n",
       "      <td>NaN</td>\n",
       "      <td>NaN</td>\n",
       "      <td>Plymouth</td>\n",
       "      <td>48170</td>\n",
       "      <td>MI</td>\n",
       "      <td>US</td>\n",
       "      <td>NaN</td>\n",
       "      <td>Anthony  Gattoni</td>\n",
       "      <td>12058 Chandler Drive</td>\n",
       "      <td>12058 Chandler Drive</td>\n",
       "      <td>NaN</td>\n",
       "      <td>NaN</td>\n",
       "      <td>Plymouth</td>\n",
       "      <td>48170</td>\n",
       "      <td>MI</td>\n",
       "      <td>US</td>\n",
       "      <td>NaN</td>\n",
       "      <td>NaN</td>\n",
       "      <td>NaN</td>\n",
       "      <td>NaN</td>\n",
       "      <td>0.0</td>\n",
       "      <td>ExplorerClothing</td>\n",
       "      <td>0.0</td>\n",
       "      <td>4.473488e+12</td>\n",
       "      <td>Low</td>\n",
       "      <td>web</td>\n",
       "      <td>0.0</td>\n",
       "      <td>NaN</td>\n",
       "      <td>NaN</td>\n",
       "      <td>1.734377e+10</td>\n",
       "      <td>Michigan</td>\n",
       "      <td>Michigan</td>\n",
       "    </tr>\n",
       "    <tr>\n",
       "      <th>2</th>\n",
       "      <td>#1079</td>\n",
       "      <td>NaN</td>\n",
       "      <td>paid</td>\n",
       "      <td>2021-12-13 19:43:08 -0500</td>\n",
       "      <td>fulfilled</td>\n",
       "      <td>2021-12-14 14:04:03 -0500</td>\n",
       "      <td>no</td>\n",
       "      <td>USD</td>\n",
       "      <td>35.0</td>\n",
       "      <td>0.00</td>\n",
       "      <td>2.1</td>\n",
       "      <td>37.10</td>\n",
       "      <td>NaN</td>\n",
       "      <td>0.0</td>\n",
       "      <td>Standard (USPS) 5-7 Days</td>\n",
       "      <td>2021-12-13 19:43:07 -0500</td>\n",
       "      <td>1</td>\n",
       "      <td>Explorer Vintage Crewnecks - L</td>\n",
       "      <td>35.0</td>\n",
       "      <td>NaN</td>\n",
       "      <td>True</td>\n",
       "      <td>True</td>\n",
       "      <td>fulfilled</td>\n",
       "      <td>Eli Smith</td>\n",
       "      <td>11162 Rivendell Court</td>\n",
       "      <td>11162 Rivendell Court</td>\n",
       "      <td>NaN</td>\n",
       "      <td>NaN</td>\n",
       "      <td>Pinckney</td>\n",
       "      <td>48169</td>\n",
       "      <td>MI</td>\n",
       "      <td>US</td>\n",
       "      <td>NaN</td>\n",
       "      <td>Eli Smith</td>\n",
       "      <td>11162 Rivendell Court</td>\n",
       "      <td>11162 Rivendell Court</td>\n",
       "      <td>NaN</td>\n",
       "      <td>NaN</td>\n",
       "      <td>Pinckney</td>\n",
       "      <td>48169</td>\n",
       "      <td>MI</td>\n",
       "      <td>US</td>\n",
       "      <td>NaN</td>\n",
       "      <td>NaN</td>\n",
       "      <td>Shopify Payments</td>\n",
       "      <td>c22866461687972.1</td>\n",
       "      <td>0.0</td>\n",
       "      <td>ExplorerClothing</td>\n",
       "      <td>0.0</td>\n",
       "      <td>4.380866e+12</td>\n",
       "      <td>Low</td>\n",
       "      <td>web</td>\n",
       "      <td>0.0</td>\n",
       "      <td>Michigan State Tax 6%</td>\n",
       "      <td>2.1</td>\n",
       "      <td>1.734883e+10</td>\n",
       "      <td>Michigan</td>\n",
       "      <td>Michigan</td>\n",
       "    </tr>\n",
       "  </tbody>\n",
       "</table>\n",
       "</div>"
      ],
      "text/plain": [
       "    Name Email Financial Status                    Paid at Fulfillment Status  \\\n",
       "0  #1081   NaN             paid  2022-04-06 21:52:40 -0400          fulfilled   \n",
       "1  #1080   NaN             paid                        NaN          fulfilled   \n",
       "2  #1079   NaN             paid  2021-12-13 19:43:08 -0500          fulfilled   \n",
       "\n",
       "                Fulfilled at Accepts Marketing Currency  Subtotal  Shipping  \\\n",
       "0  2022-04-07 12:20:58 -0400                no      USD      35.0      2.74   \n",
       "1  2022-02-15 10:41:34 -0500                no      USD       0.0      0.00   \n",
       "2  2021-12-14 14:04:03 -0500                no      USD      35.0      0.00   \n",
       "\n",
       "   Taxes  Total Discount Code  Discount Amount            Shipping Method  \\\n",
       "0    0.0  37.74           NaN              0.0  Expedited (USPS) 1-4 Days   \n",
       "1    0.0   0.00    anthony100             35.0   Standard (USPS) 5-7 Days   \n",
       "2    2.1  37.10           NaN              0.0   Standard (USPS) 5-7 Days   \n",
       "\n",
       "                  Created at  Lineitem quantity  \\\n",
       "0  2022-04-06 21:52:39 -0400                  1   \n",
       "1  2022-02-14 23:36:42 -0500                  1   \n",
       "2  2021-12-13 19:43:07 -0500                  1   \n",
       "\n",
       "                    Lineitem name  Lineitem price  Lineitem compare at price  \\\n",
       "0       White R Hepler Hoodie - S            35.0                        NaN   \n",
       "1  Explorer Vintage Crewnecks - S            35.0                        NaN   \n",
       "2  Explorer Vintage Crewnecks - L            35.0                        NaN   \n",
       "\n",
       "   Lineitem requires shipping  Lineitem taxable Lineitem fulfillment status  \\\n",
       "0                        True              True                   fulfilled   \n",
       "1                        True              True                   fulfilled   \n",
       "2                        True              True                   fulfilled   \n",
       "\n",
       "        Billing Name         Billing Street       Billing Address1  \\\n",
       "0        Deric Kenne       547 Symphony Way       547 Symphony Way   \n",
       "1  Anthony  Gattoni    12058 Chandler Drive   12058 Chandler Drive   \n",
       "2          Eli Smith  11162 Rivendell Court  11162 Rivendell Court   \n",
       "\n",
       "  Billing Address2 Billing Company Billing City Billing Zip Billing Province  \\\n",
       "0              NaN             NaN    Wadsworth       44281               OH   \n",
       "1              NaN             NaN     Plymouth       48170               MI   \n",
       "2              NaN             NaN     Pinckney       48169               MI   \n",
       "\n",
       "  Billing Country Billing Phone      Shipping Name        Shipping Street  \\\n",
       "0              US           NaN        Deric Kenne       547 Symphony Way   \n",
       "1              US           NaN  Anthony  Gattoni    12058 Chandler Drive   \n",
       "2              US           NaN          Eli Smith  11162 Rivendell Court   \n",
       "\n",
       "       Shipping Address1 Shipping Address2 Shipping Company Shipping City  \\\n",
       "0       547 Symphony Way               NaN              NaN     Wadsworth   \n",
       "1   12058 Chandler Drive               NaN              NaN      Plymouth   \n",
       "2  11162 Rivendell Court               NaN              NaN      Pinckney   \n",
       "\n",
       "  Shipping Zip Shipping Province Shipping Country Shipping Phone Notes  \\\n",
       "0        44281                OH               US            NaN   NaN   \n",
       "1        48170                MI               US            NaN   NaN   \n",
       "2        48169                MI               US            NaN   NaN   \n",
       "\n",
       "     Payment Method  Payment Reference  Refunded Amount            Vendor  \\\n",
       "0  Shopify Payments  c24005816451236.1              0.0  ExplorerClothing   \n",
       "1               NaN                NaN              0.0  ExplorerClothing   \n",
       "2  Shopify Payments  c22866461687972.1              0.0  ExplorerClothing   \n",
       "\n",
       "   Outstanding Balance            Id Risk Level Source  Lineitem discount  \\\n",
       "0                  0.0  4.541752e+12        Low    web                0.0   \n",
       "1                  0.0  4.473488e+12        Low    web                0.0   \n",
       "2                  0.0  4.380866e+12        Low    web                0.0   \n",
       "\n",
       "              Tax 1 Name  Tax 1 Value         Phone Billing Province Name  \\\n",
       "0                    NaN          NaN  1.330631e+10                  Ohio   \n",
       "1                    NaN          NaN  1.734377e+10              Michigan   \n",
       "2  Michigan State Tax 6%          2.1  1.734883e+10              Michigan   \n",
       "\n",
       "  Shipping Province Name  \n",
       "0                   Ohio  \n",
       "1               Michigan  \n",
       "2               Michigan  "
      ]
     },
     "execution_count": 119,
     "metadata": {},
     "output_type": "execute_result"
    }
   ],
   "source": [
    "df.head(3)"
   ]
  },
  {
   "cell_type": "markdown",
   "id": "045542e6",
   "metadata": {},
   "source": [
    "# Removing Completely Null Columns"
   ]
  },
  {
   "cell_type": "code",
   "execution_count": 2,
   "id": "c85f89a2",
   "metadata": {},
   "outputs": [],
   "source": [
    "newdf=df\n",
    "for column in newdf.columns: \n",
    "    if df[column].count() == 0: \n",
    "        df=df.drop(column, axis=1)"
   ]
  },
  {
   "cell_type": "markdown",
   "id": "d6421b28",
   "metadata": {},
   "source": [
    "# New Data Frame"
   ]
  },
  {
   "cell_type": "code",
   "execution_count": 80,
   "id": "7b6538ba",
   "metadata": {},
   "outputs": [
    {
     "data": {
      "text/html": [
       "<div>\n",
       "<style scoped>\n",
       "    .dataframe tbody tr th:only-of-type {\n",
       "        vertical-align: middle;\n",
       "    }\n",
       "\n",
       "    .dataframe tbody tr th {\n",
       "        vertical-align: top;\n",
       "    }\n",
       "\n",
       "    .dataframe thead th {\n",
       "        text-align: right;\n",
       "    }\n",
       "</style>\n",
       "<table border=\"1\" class=\"dataframe\">\n",
       "  <thead>\n",
       "    <tr style=\"text-align: right;\">\n",
       "      <th></th>\n",
       "      <th>Name</th>\n",
       "      <th>Email</th>\n",
       "      <th>Financial Status</th>\n",
       "      <th>Paid at</th>\n",
       "      <th>Fulfillment Status</th>\n",
       "      <th>Fulfilled at</th>\n",
       "      <th>Accepts Marketing</th>\n",
       "      <th>Currency</th>\n",
       "      <th>Subtotal</th>\n",
       "      <th>Shipping</th>\n",
       "      <th>Taxes</th>\n",
       "      <th>Total</th>\n",
       "      <th>Discount Code</th>\n",
       "      <th>Discount Amount</th>\n",
       "      <th>Shipping Method</th>\n",
       "      <th>Created at</th>\n",
       "      <th>Lineitem quantity</th>\n",
       "      <th>Lineitem name</th>\n",
       "      <th>Lineitem price</th>\n",
       "      <th>Lineitem compare at price</th>\n",
       "      <th>Lineitem sku</th>\n",
       "      <th>Lineitem requires shipping</th>\n",
       "      <th>Lineitem taxable</th>\n",
       "      <th>Lineitem fulfillment status</th>\n",
       "      <th>Billing Name</th>\n",
       "      <th>Billing Street</th>\n",
       "      <th>Billing Address1</th>\n",
       "      <th>Billing Address2</th>\n",
       "      <th>Billing Company</th>\n",
       "      <th>Billing City</th>\n",
       "      <th>Billing Zip</th>\n",
       "      <th>Billing Province</th>\n",
       "      <th>Billing Country</th>\n",
       "      <th>Billing Phone</th>\n",
       "      <th>Shipping Name</th>\n",
       "      <th>Shipping Street</th>\n",
       "      <th>Shipping Address1</th>\n",
       "      <th>Shipping Address2</th>\n",
       "      <th>Shipping Company</th>\n",
       "      <th>Shipping City</th>\n",
       "      <th>Shipping Zip</th>\n",
       "      <th>Shipping Province</th>\n",
       "      <th>Shipping Country</th>\n",
       "      <th>Shipping Phone</th>\n",
       "      <th>Notes</th>\n",
       "      <th>Note Attributes</th>\n",
       "      <th>Cancelled at</th>\n",
       "      <th>Payment Method</th>\n",
       "      <th>Payment Reference</th>\n",
       "      <th>Refunded Amount</th>\n",
       "      <th>Vendor</th>\n",
       "      <th>Outstanding Balance</th>\n",
       "      <th>Employee</th>\n",
       "      <th>Location</th>\n",
       "      <th>Device ID</th>\n",
       "      <th>Id</th>\n",
       "      <th>Tags</th>\n",
       "      <th>Risk Level</th>\n",
       "      <th>Source</th>\n",
       "      <th>Lineitem discount</th>\n",
       "      <th>Tax 1 Name</th>\n",
       "      <th>Tax 1 Value</th>\n",
       "      <th>Tax 2 Name</th>\n",
       "      <th>Tax 2 Value</th>\n",
       "      <th>Tax 3 Name</th>\n",
       "      <th>Tax 3 Value</th>\n",
       "      <th>Tax 4 Name</th>\n",
       "      <th>Tax 4 Value</th>\n",
       "      <th>Tax 5 Name</th>\n",
       "      <th>Tax 5 Value</th>\n",
       "      <th>Phone</th>\n",
       "      <th>Receipt Number</th>\n",
       "      <th>Duties</th>\n",
       "      <th>Billing Province Name</th>\n",
       "      <th>Shipping Province Name</th>\n",
       "      <th>Payment ID</th>\n",
       "      <th>Payment Terms Name</th>\n",
       "      <th>Next Payment Due At</th>\n",
       "    </tr>\n",
       "  </thead>\n",
       "  <tbody>\n",
       "    <tr>\n",
       "      <th>0</th>\n",
       "      <td>#1081</td>\n",
       "      <td>NaN</td>\n",
       "      <td>paid</td>\n",
       "      <td>2022-04-06 21:52:40 -0400</td>\n",
       "      <td>fulfilled</td>\n",
       "      <td>2022-04-07 12:20:58 -0400</td>\n",
       "      <td>no</td>\n",
       "      <td>USD</td>\n",
       "      <td>35.0</td>\n",
       "      <td>2.74</td>\n",
       "      <td>0.0</td>\n",
       "      <td>37.74</td>\n",
       "      <td>NaN</td>\n",
       "      <td>0.0</td>\n",
       "      <td>Expedited (USPS) 1-4 Days</td>\n",
       "      <td>2022-04-06 21:52:39 -0400</td>\n",
       "      <td>1</td>\n",
       "      <td>White R Hepler Hoodie - S</td>\n",
       "      <td>35.0</td>\n",
       "      <td>NaN</td>\n",
       "      <td>NaN</td>\n",
       "      <td>True</td>\n",
       "      <td>True</td>\n",
       "      <td>fulfilled</td>\n",
       "      <td>Deric Kenne</td>\n",
       "      <td>547 Symphony Way</td>\n",
       "      <td>547 Symphony Way</td>\n",
       "      <td>NaN</td>\n",
       "      <td>NaN</td>\n",
       "      <td>Wadsworth</td>\n",
       "      <td>44281</td>\n",
       "      <td>OH</td>\n",
       "      <td>US</td>\n",
       "      <td>NaN</td>\n",
       "      <td>Deric Kenne</td>\n",
       "      <td>547 Symphony Way</td>\n",
       "      <td>547 Symphony Way</td>\n",
       "      <td>NaN</td>\n",
       "      <td>NaN</td>\n",
       "      <td>Wadsworth</td>\n",
       "      <td>44281</td>\n",
       "      <td>OH</td>\n",
       "      <td>US</td>\n",
       "      <td>NaN</td>\n",
       "      <td>NaN</td>\n",
       "      <td>NaN</td>\n",
       "      <td>NaN</td>\n",
       "      <td>Shopify Payments</td>\n",
       "      <td>c24005816451236.1</td>\n",
       "      <td>0.0</td>\n",
       "      <td>ExplorerClothing</td>\n",
       "      <td>0.0</td>\n",
       "      <td>NaN</td>\n",
       "      <td>NaN</td>\n",
       "      <td>NaN</td>\n",
       "      <td>4.541752e+12</td>\n",
       "      <td>NaN</td>\n",
       "      <td>Low</td>\n",
       "      <td>web</td>\n",
       "      <td>0.0</td>\n",
       "      <td>NaN</td>\n",
       "      <td>NaN</td>\n",
       "      <td>NaN</td>\n",
       "      <td>NaN</td>\n",
       "      <td>NaN</td>\n",
       "      <td>NaN</td>\n",
       "      <td>NaN</td>\n",
       "      <td>NaN</td>\n",
       "      <td>NaN</td>\n",
       "      <td>NaN</td>\n",
       "      <td>1.330631e+10</td>\n",
       "      <td>NaN</td>\n",
       "      <td>NaN</td>\n",
       "      <td>Ohio</td>\n",
       "      <td>Ohio</td>\n",
       "      <td>NaN</td>\n",
       "      <td>NaN</td>\n",
       "      <td>NaN</td>\n",
       "    </tr>\n",
       "    <tr>\n",
       "      <th>1</th>\n",
       "      <td>#1080</td>\n",
       "      <td>NaN</td>\n",
       "      <td>paid</td>\n",
       "      <td>NaN</td>\n",
       "      <td>fulfilled</td>\n",
       "      <td>2022-02-15 10:41:34 -0500</td>\n",
       "      <td>no</td>\n",
       "      <td>USD</td>\n",
       "      <td>0.0</td>\n",
       "      <td>0.00</td>\n",
       "      <td>0.0</td>\n",
       "      <td>0.00</td>\n",
       "      <td>anthony100</td>\n",
       "      <td>35.0</td>\n",
       "      <td>Standard (USPS) 5-7 Days</td>\n",
       "      <td>2022-02-14 23:36:42 -0500</td>\n",
       "      <td>1</td>\n",
       "      <td>Explorer Vintage Crewnecks - S</td>\n",
       "      <td>35.0</td>\n",
       "      <td>NaN</td>\n",
       "      <td>NaN</td>\n",
       "      <td>True</td>\n",
       "      <td>True</td>\n",
       "      <td>fulfilled</td>\n",
       "      <td>Anthony  Gattoni</td>\n",
       "      <td>12058 Chandler Drive</td>\n",
       "      <td>12058 Chandler Drive</td>\n",
       "      <td>NaN</td>\n",
       "      <td>NaN</td>\n",
       "      <td>Plymouth</td>\n",
       "      <td>48170</td>\n",
       "      <td>MI</td>\n",
       "      <td>US</td>\n",
       "      <td>NaN</td>\n",
       "      <td>Anthony  Gattoni</td>\n",
       "      <td>12058 Chandler Drive</td>\n",
       "      <td>12058 Chandler Drive</td>\n",
       "      <td>NaN</td>\n",
       "      <td>NaN</td>\n",
       "      <td>Plymouth</td>\n",
       "      <td>48170</td>\n",
       "      <td>MI</td>\n",
       "      <td>US</td>\n",
       "      <td>NaN</td>\n",
       "      <td>NaN</td>\n",
       "      <td>NaN</td>\n",
       "      <td>NaN</td>\n",
       "      <td>NaN</td>\n",
       "      <td>NaN</td>\n",
       "      <td>0.0</td>\n",
       "      <td>ExplorerClothing</td>\n",
       "      <td>0.0</td>\n",
       "      <td>NaN</td>\n",
       "      <td>NaN</td>\n",
       "      <td>NaN</td>\n",
       "      <td>4.473488e+12</td>\n",
       "      <td>NaN</td>\n",
       "      <td>Low</td>\n",
       "      <td>web</td>\n",
       "      <td>0.0</td>\n",
       "      <td>NaN</td>\n",
       "      <td>NaN</td>\n",
       "      <td>NaN</td>\n",
       "      <td>NaN</td>\n",
       "      <td>NaN</td>\n",
       "      <td>NaN</td>\n",
       "      <td>NaN</td>\n",
       "      <td>NaN</td>\n",
       "      <td>NaN</td>\n",
       "      <td>NaN</td>\n",
       "      <td>1.734377e+10</td>\n",
       "      <td>NaN</td>\n",
       "      <td>NaN</td>\n",
       "      <td>Michigan</td>\n",
       "      <td>Michigan</td>\n",
       "      <td>NaN</td>\n",
       "      <td>NaN</td>\n",
       "      <td>NaN</td>\n",
       "    </tr>\n",
       "    <tr>\n",
       "      <th>2</th>\n",
       "      <td>#1079</td>\n",
       "      <td>NaN</td>\n",
       "      <td>paid</td>\n",
       "      <td>2021-12-13 19:43:08 -0500</td>\n",
       "      <td>fulfilled</td>\n",
       "      <td>2021-12-14 14:04:03 -0500</td>\n",
       "      <td>no</td>\n",
       "      <td>USD</td>\n",
       "      <td>35.0</td>\n",
       "      <td>0.00</td>\n",
       "      <td>2.1</td>\n",
       "      <td>37.10</td>\n",
       "      <td>NaN</td>\n",
       "      <td>0.0</td>\n",
       "      <td>Standard (USPS) 5-7 Days</td>\n",
       "      <td>2021-12-13 19:43:07 -0500</td>\n",
       "      <td>1</td>\n",
       "      <td>Explorer Vintage Crewnecks - L</td>\n",
       "      <td>35.0</td>\n",
       "      <td>NaN</td>\n",
       "      <td>NaN</td>\n",
       "      <td>True</td>\n",
       "      <td>True</td>\n",
       "      <td>fulfilled</td>\n",
       "      <td>Eli Smith</td>\n",
       "      <td>11162 Rivendell Court</td>\n",
       "      <td>11162 Rivendell Court</td>\n",
       "      <td>NaN</td>\n",
       "      <td>NaN</td>\n",
       "      <td>Pinckney</td>\n",
       "      <td>48169</td>\n",
       "      <td>MI</td>\n",
       "      <td>US</td>\n",
       "      <td>NaN</td>\n",
       "      <td>Eli Smith</td>\n",
       "      <td>11162 Rivendell Court</td>\n",
       "      <td>11162 Rivendell Court</td>\n",
       "      <td>NaN</td>\n",
       "      <td>NaN</td>\n",
       "      <td>Pinckney</td>\n",
       "      <td>48169</td>\n",
       "      <td>MI</td>\n",
       "      <td>US</td>\n",
       "      <td>NaN</td>\n",
       "      <td>NaN</td>\n",
       "      <td>NaN</td>\n",
       "      <td>NaN</td>\n",
       "      <td>Shopify Payments</td>\n",
       "      <td>c22866461687972.1</td>\n",
       "      <td>0.0</td>\n",
       "      <td>ExplorerClothing</td>\n",
       "      <td>0.0</td>\n",
       "      <td>NaN</td>\n",
       "      <td>NaN</td>\n",
       "      <td>NaN</td>\n",
       "      <td>4.380866e+12</td>\n",
       "      <td>NaN</td>\n",
       "      <td>Low</td>\n",
       "      <td>web</td>\n",
       "      <td>0.0</td>\n",
       "      <td>Michigan State Tax 6%</td>\n",
       "      <td>2.1</td>\n",
       "      <td>NaN</td>\n",
       "      <td>NaN</td>\n",
       "      <td>NaN</td>\n",
       "      <td>NaN</td>\n",
       "      <td>NaN</td>\n",
       "      <td>NaN</td>\n",
       "      <td>NaN</td>\n",
       "      <td>NaN</td>\n",
       "      <td>1.734883e+10</td>\n",
       "      <td>NaN</td>\n",
       "      <td>NaN</td>\n",
       "      <td>Michigan</td>\n",
       "      <td>Michigan</td>\n",
       "      <td>NaN</td>\n",
       "      <td>NaN</td>\n",
       "      <td>NaN</td>\n",
       "    </tr>\n",
       "  </tbody>\n",
       "</table>\n",
       "</div>"
      ],
      "text/plain": [
       "    Name Email Financial Status                    Paid at Fulfillment Status  \\\n",
       "0  #1081   NaN             paid  2022-04-06 21:52:40 -0400          fulfilled   \n",
       "1  #1080   NaN             paid                        NaN          fulfilled   \n",
       "2  #1079   NaN             paid  2021-12-13 19:43:08 -0500          fulfilled   \n",
       "\n",
       "                Fulfilled at Accepts Marketing Currency  Subtotal  Shipping  \\\n",
       "0  2022-04-07 12:20:58 -0400                no      USD      35.0      2.74   \n",
       "1  2022-02-15 10:41:34 -0500                no      USD       0.0      0.00   \n",
       "2  2021-12-14 14:04:03 -0500                no      USD      35.0      0.00   \n",
       "\n",
       "   Taxes  Total Discount Code  Discount Amount            Shipping Method  \\\n",
       "0    0.0  37.74           NaN              0.0  Expedited (USPS) 1-4 Days   \n",
       "1    0.0   0.00    anthony100             35.0   Standard (USPS) 5-7 Days   \n",
       "2    2.1  37.10           NaN              0.0   Standard (USPS) 5-7 Days   \n",
       "\n",
       "                  Created at  Lineitem quantity  \\\n",
       "0  2022-04-06 21:52:39 -0400                  1   \n",
       "1  2022-02-14 23:36:42 -0500                  1   \n",
       "2  2021-12-13 19:43:07 -0500                  1   \n",
       "\n",
       "                    Lineitem name  Lineitem price  Lineitem compare at price  \\\n",
       "0       White R Hepler Hoodie - S            35.0                        NaN   \n",
       "1  Explorer Vintage Crewnecks - S            35.0                        NaN   \n",
       "2  Explorer Vintage Crewnecks - L            35.0                        NaN   \n",
       "\n",
       "   Lineitem sku  Lineitem requires shipping  Lineitem taxable  \\\n",
       "0           NaN                        True              True   \n",
       "1           NaN                        True              True   \n",
       "2           NaN                        True              True   \n",
       "\n",
       "  Lineitem fulfillment status       Billing Name         Billing Street  \\\n",
       "0                   fulfilled        Deric Kenne       547 Symphony Way   \n",
       "1                   fulfilled  Anthony  Gattoni    12058 Chandler Drive   \n",
       "2                   fulfilled          Eli Smith  11162 Rivendell Court   \n",
       "\n",
       "        Billing Address1 Billing Address2 Billing Company Billing City  \\\n",
       "0       547 Symphony Way              NaN             NaN    Wadsworth   \n",
       "1   12058 Chandler Drive              NaN             NaN     Plymouth   \n",
       "2  11162 Rivendell Court              NaN             NaN     Pinckney   \n",
       "\n",
       "  Billing Zip Billing Province Billing Country Billing Phone  \\\n",
       "0       44281               OH              US           NaN   \n",
       "1       48170               MI              US           NaN   \n",
       "2       48169               MI              US           NaN   \n",
       "\n",
       "       Shipping Name        Shipping Street      Shipping Address1  \\\n",
       "0        Deric Kenne       547 Symphony Way       547 Symphony Way   \n",
       "1  Anthony  Gattoni    12058 Chandler Drive   12058 Chandler Drive   \n",
       "2          Eli Smith  11162 Rivendell Court  11162 Rivendell Court   \n",
       "\n",
       "  Shipping Address2 Shipping Company Shipping City Shipping Zip  \\\n",
       "0               NaN              NaN     Wadsworth        44281   \n",
       "1               NaN              NaN      Plymouth        48170   \n",
       "2               NaN              NaN      Pinckney        48169   \n",
       "\n",
       "  Shipping Province Shipping Country Shipping Phone Notes  Note Attributes  \\\n",
       "0                OH               US            NaN   NaN              NaN   \n",
       "1                MI               US            NaN   NaN              NaN   \n",
       "2                MI               US            NaN   NaN              NaN   \n",
       "\n",
       "   Cancelled at    Payment Method  Payment Reference  Refunded Amount  \\\n",
       "0           NaN  Shopify Payments  c24005816451236.1              0.0   \n",
       "1           NaN               NaN                NaN              0.0   \n",
       "2           NaN  Shopify Payments  c22866461687972.1              0.0   \n",
       "\n",
       "             Vendor  Outstanding Balance  Employee  Location  Device ID  \\\n",
       "0  ExplorerClothing                  0.0       NaN       NaN        NaN   \n",
       "1  ExplorerClothing                  0.0       NaN       NaN        NaN   \n",
       "2  ExplorerClothing                  0.0       NaN       NaN        NaN   \n",
       "\n",
       "             Id  Tags Risk Level Source  Lineitem discount  \\\n",
       "0  4.541752e+12   NaN        Low    web                0.0   \n",
       "1  4.473488e+12   NaN        Low    web                0.0   \n",
       "2  4.380866e+12   NaN        Low    web                0.0   \n",
       "\n",
       "              Tax 1 Name  Tax 1 Value  Tax 2 Name  Tax 2 Value  Tax 3 Name  \\\n",
       "0                    NaN          NaN         NaN          NaN         NaN   \n",
       "1                    NaN          NaN         NaN          NaN         NaN   \n",
       "2  Michigan State Tax 6%          2.1         NaN          NaN         NaN   \n",
       "\n",
       "   Tax 3 Value  Tax 4 Name  Tax 4 Value  Tax 5 Name  Tax 5 Value  \\\n",
       "0          NaN         NaN          NaN         NaN          NaN   \n",
       "1          NaN         NaN          NaN         NaN          NaN   \n",
       "2          NaN         NaN          NaN         NaN          NaN   \n",
       "\n",
       "          Phone  Receipt Number  Duties Billing Province Name  \\\n",
       "0  1.330631e+10             NaN     NaN                  Ohio   \n",
       "1  1.734377e+10             NaN     NaN              Michigan   \n",
       "2  1.734883e+10             NaN     NaN              Michigan   \n",
       "\n",
       "  Shipping Province Name  Payment ID  Payment Terms Name  Next Payment Due At  \n",
       "0                   Ohio         NaN                 NaN                  NaN  \n",
       "1               Michigan         NaN                 NaN                  NaN  \n",
       "2               Michigan         NaN                 NaN                  NaN  "
      ]
     },
     "execution_count": 80,
     "metadata": {},
     "output_type": "execute_result"
    }
   ],
   "source": [
    "newdf.head(3)"
   ]
  },
  {
   "cell_type": "markdown",
   "id": "3aab8709",
   "metadata": {},
   "source": [
    "# Number of True Rows per Column"
   ]
  },
  {
   "cell_type": "code",
   "execution_count": 36,
   "id": "b3293a9b",
   "metadata": {},
   "outputs": [
    {
     "data": {
      "text/plain": [
       "Name                           98\n",
       "Email                          72\n",
       "Financial Status               81\n",
       "Paid at                        79\n",
       "Fulfillment Status             81\n",
       "Fulfilled at                   80\n",
       "Accepts Marketing              81\n",
       "Currency                       81\n",
       "Subtotal                       81\n",
       "Shipping                       81\n",
       "Taxes                          81\n",
       "Total                          81\n",
       "Discount Code                  16\n",
       "Discount Amount                81\n",
       "Shipping Method                81\n",
       "Created at                     98\n",
       "Lineitem quantity              98\n",
       "Lineitem name                  98\n",
       "Lineitem price                 98\n",
       "Lineitem compare at price      31\n",
       "Lineitem requires shipping     98\n",
       "Lineitem taxable               98\n",
       "Lineitem fulfillment status    98\n",
       "Billing Name                   81\n",
       "Billing Street                 81\n",
       "Billing Address1               81\n",
       "Billing Address2                9\n",
       "Billing Company                 2\n",
       "Billing City                   81\n",
       "Billing Zip                    81\n",
       "Billing Province               81\n",
       "Billing Country                81\n",
       "Billing Phone                  14\n",
       "Shipping Name                  81\n",
       "Shipping Street                81\n",
       "Shipping Address1              81\n",
       "Shipping Address2              12\n",
       "Shipping Company                2\n",
       "Shipping City                  81\n",
       "Shipping Zip                   81\n",
       "Shipping Province              81\n",
       "Shipping Country               81\n",
       "Shipping Phone                 14\n",
       "Notes                           1\n",
       "Payment Method                 80\n",
       "Payment Reference              80\n",
       "Refunded Amount                81\n",
       "Vendor                         97\n",
       "Outstanding Balance            81\n",
       "Id                             81\n",
       "Risk Level                     81\n",
       "Source                         81\n",
       "Lineitem discount              98\n",
       "Tax 1 Name                     39\n",
       "Tax 1 Value                    39\n",
       "Phone                          37\n",
       "Billing Province Name          81\n",
       "Shipping Province Name         81\n",
       "dtype: int64"
      ]
     },
     "execution_count": 36,
     "metadata": {},
     "output_type": "execute_result"
    }
   ],
   "source": [
    "newdf.count()"
   ]
  },
  {
   "cell_type": "markdown",
   "id": "6af76bd8",
   "metadata": {},
   "source": [
    "# All States Shipped to"
   ]
  },
  {
   "cell_type": "code",
   "execution_count": 146,
   "id": "1df78dd5",
   "metadata": {},
   "outputs": [
    {
     "data": {
      "text/plain": [
       "['Ohio',\n",
       " 'Michigan',\n",
       " 'Texas',\n",
       " 'California',\n",
       " 'Florida',\n",
       " 'Alabama',\n",
       " 'Missouri',\n",
       " 'Indiana',\n",
       " 'South Carolina',\n",
       " nan,\n",
       " 'Arizona',\n",
       " 'Massachusetts',\n",
       " 'Iowa',\n",
       " 'New York',\n",
       " 'Pennsylvania',\n",
       " 'Idaho',\n",
       " 'Maryland',\n",
       " 'Minnesota',\n",
       " 'Wisconsin',\n",
       " 'Colorado',\n",
       " 'Connecticut']"
      ]
     },
     "execution_count": 146,
     "metadata": {},
     "output_type": "execute_result"
    }
   ],
   "source": [
    "list(newdf['Shipping Province Name'].unique())"
   ]
  },
  {
   "cell_type": "markdown",
   "id": "401d4bce",
   "metadata": {},
   "source": [
    "# Out of State Orders"
   ]
  },
  {
   "cell_type": "code",
   "execution_count": 4,
   "id": "bc26bb06",
   "metadata": {},
   "outputs": [],
   "source": [
    "nomichigan = newdf[(newdf['Shipping Province Name'] != 'Michigan')]\n",
    "\n",
    "outofstate = nomichigan[nomichigan['Shipping Province Name'].notnull()]"
   ]
  },
  {
   "cell_type": "code",
   "execution_count": 111,
   "id": "2ab6c99b",
   "metadata": {},
   "outputs": [
    {
     "data": {
      "text/html": [
       "<div>\n",
       "<style scoped>\n",
       "    .dataframe tbody tr th:only-of-type {\n",
       "        vertical-align: middle;\n",
       "    }\n",
       "\n",
       "    .dataframe tbody tr th {\n",
       "        vertical-align: top;\n",
       "    }\n",
       "\n",
       "    .dataframe thead th {\n",
       "        text-align: right;\n",
       "    }\n",
       "</style>\n",
       "<table border=\"1\" class=\"dataframe\">\n",
       "  <thead>\n",
       "    <tr style=\"text-align: right;\">\n",
       "      <th></th>\n",
       "      <th>Name</th>\n",
       "      <th>Email</th>\n",
       "      <th>Financial Status</th>\n",
       "      <th>Paid at</th>\n",
       "      <th>Fulfillment Status</th>\n",
       "      <th>Fulfilled at</th>\n",
       "      <th>Accepts Marketing</th>\n",
       "      <th>Currency</th>\n",
       "      <th>Subtotal</th>\n",
       "      <th>Shipping</th>\n",
       "      <th>Taxes</th>\n",
       "      <th>Total</th>\n",
       "      <th>Discount Code</th>\n",
       "      <th>Discount Amount</th>\n",
       "      <th>Shipping Method</th>\n",
       "      <th>Created at</th>\n",
       "      <th>Lineitem quantity</th>\n",
       "      <th>Lineitem name</th>\n",
       "      <th>Lineitem price</th>\n",
       "      <th>Lineitem compare at price</th>\n",
       "      <th>Lineitem sku</th>\n",
       "      <th>Lineitem requires shipping</th>\n",
       "      <th>Lineitem taxable</th>\n",
       "      <th>Lineitem fulfillment status</th>\n",
       "      <th>Billing Name</th>\n",
       "      <th>Billing Street</th>\n",
       "      <th>Billing Address1</th>\n",
       "      <th>Billing Address2</th>\n",
       "      <th>Billing Company</th>\n",
       "      <th>Billing City</th>\n",
       "      <th>Billing Zip</th>\n",
       "      <th>Billing Province</th>\n",
       "      <th>Billing Country</th>\n",
       "      <th>Billing Phone</th>\n",
       "      <th>Shipping Name</th>\n",
       "      <th>Shipping Street</th>\n",
       "      <th>Shipping Address1</th>\n",
       "      <th>Shipping Address2</th>\n",
       "      <th>Shipping Company</th>\n",
       "      <th>Shipping City</th>\n",
       "      <th>Shipping Zip</th>\n",
       "      <th>Shipping Province</th>\n",
       "      <th>Shipping Country</th>\n",
       "      <th>Shipping Phone</th>\n",
       "      <th>Notes</th>\n",
       "      <th>Note Attributes</th>\n",
       "      <th>Cancelled at</th>\n",
       "      <th>Payment Method</th>\n",
       "      <th>Payment Reference</th>\n",
       "      <th>Refunded Amount</th>\n",
       "      <th>Vendor</th>\n",
       "      <th>Outstanding Balance</th>\n",
       "      <th>Employee</th>\n",
       "      <th>Location</th>\n",
       "      <th>Device ID</th>\n",
       "      <th>Id</th>\n",
       "      <th>Tags</th>\n",
       "      <th>Risk Level</th>\n",
       "      <th>Source</th>\n",
       "      <th>Lineitem discount</th>\n",
       "      <th>Tax 1 Name</th>\n",
       "      <th>Tax 1 Value</th>\n",
       "      <th>Tax 2 Name</th>\n",
       "      <th>Tax 2 Value</th>\n",
       "      <th>Tax 3 Name</th>\n",
       "      <th>Tax 3 Value</th>\n",
       "      <th>Tax 4 Name</th>\n",
       "      <th>Tax 4 Value</th>\n",
       "      <th>Tax 5 Name</th>\n",
       "      <th>Tax 5 Value</th>\n",
       "      <th>Phone</th>\n",
       "      <th>Receipt Number</th>\n",
       "      <th>Duties</th>\n",
       "      <th>Billing Province Name</th>\n",
       "      <th>Shipping Province Name</th>\n",
       "      <th>Payment ID</th>\n",
       "      <th>Payment Terms Name</th>\n",
       "      <th>Next Payment Due At</th>\n",
       "    </tr>\n",
       "  </thead>\n",
       "  <tbody>\n",
       "    <tr>\n",
       "      <th>0</th>\n",
       "      <td>#1081</td>\n",
       "      <td>NaN</td>\n",
       "      <td>paid</td>\n",
       "      <td>2022-04-06 21:52:40 -0400</td>\n",
       "      <td>fulfilled</td>\n",
       "      <td>2022-04-07 12:20:58 -0400</td>\n",
       "      <td>no</td>\n",
       "      <td>USD</td>\n",
       "      <td>35.00</td>\n",
       "      <td>2.74</td>\n",
       "      <td>0.0</td>\n",
       "      <td>37.74</td>\n",
       "      <td>NaN</td>\n",
       "      <td>0.00</td>\n",
       "      <td>Expedited (USPS) 1-4 Days</td>\n",
       "      <td>2022-04-06 21:52:39 -0400</td>\n",
       "      <td>1</td>\n",
       "      <td>White R Hepler Hoodie - S</td>\n",
       "      <td>35.0</td>\n",
       "      <td>NaN</td>\n",
       "      <td>NaN</td>\n",
       "      <td>True</td>\n",
       "      <td>True</td>\n",
       "      <td>fulfilled</td>\n",
       "      <td>Deric Kenne</td>\n",
       "      <td>547 Symphony Way</td>\n",
       "      <td>547 Symphony Way</td>\n",
       "      <td>NaN</td>\n",
       "      <td>NaN</td>\n",
       "      <td>Wadsworth</td>\n",
       "      <td>44281</td>\n",
       "      <td>OH</td>\n",
       "      <td>US</td>\n",
       "      <td>NaN</td>\n",
       "      <td>Deric Kenne</td>\n",
       "      <td>547 Symphony Way</td>\n",
       "      <td>547 Symphony Way</td>\n",
       "      <td>NaN</td>\n",
       "      <td>NaN</td>\n",
       "      <td>Wadsworth</td>\n",
       "      <td>44281</td>\n",
       "      <td>OH</td>\n",
       "      <td>US</td>\n",
       "      <td>NaN</td>\n",
       "      <td>NaN</td>\n",
       "      <td>NaN</td>\n",
       "      <td>NaN</td>\n",
       "      <td>Shopify Payments</td>\n",
       "      <td>c24005816451236.1</td>\n",
       "      <td>0.0</td>\n",
       "      <td>ExplorerClothing</td>\n",
       "      <td>0.0</td>\n",
       "      <td>NaN</td>\n",
       "      <td>NaN</td>\n",
       "      <td>NaN</td>\n",
       "      <td>4.541752e+12</td>\n",
       "      <td>NaN</td>\n",
       "      <td>Low</td>\n",
       "      <td>web</td>\n",
       "      <td>0.0</td>\n",
       "      <td>NaN</td>\n",
       "      <td>NaN</td>\n",
       "      <td>NaN</td>\n",
       "      <td>NaN</td>\n",
       "      <td>NaN</td>\n",
       "      <td>NaN</td>\n",
       "      <td>NaN</td>\n",
       "      <td>NaN</td>\n",
       "      <td>NaN</td>\n",
       "      <td>NaN</td>\n",
       "      <td>1.330631e+10</td>\n",
       "      <td>NaN</td>\n",
       "      <td>NaN</td>\n",
       "      <td>Ohio</td>\n",
       "      <td>Ohio</td>\n",
       "      <td>NaN</td>\n",
       "      <td>NaN</td>\n",
       "      <td>NaN</td>\n",
       "    </tr>\n",
       "    <tr>\n",
       "      <th>4</th>\n",
       "      <td>#1077</td>\n",
       "      <td>darleneescamilla34@gmail.com</td>\n",
       "      <td>paid</td>\n",
       "      <td>2021-10-30 16:14:12 -0400</td>\n",
       "      <td>fulfilled</td>\n",
       "      <td>2021-11-01 10:50:03 -0400</td>\n",
       "      <td>no</td>\n",
       "      <td>USD</td>\n",
       "      <td>40.00</td>\n",
       "      <td>0.00</td>\n",
       "      <td>0.0</td>\n",
       "      <td>40.00</td>\n",
       "      <td>NaN</td>\n",
       "      <td>0.00</td>\n",
       "      <td>Standard (USPS) 5-7 Days</td>\n",
       "      <td>2021-10-30 16:14:11 -0400</td>\n",
       "      <td>1</td>\n",
       "      <td>White Helper Hoodie - L</td>\n",
       "      <td>40.0</td>\n",
       "      <td>90.0</td>\n",
       "      <td>NaN</td>\n",
       "      <td>True</td>\n",
       "      <td>True</td>\n",
       "      <td>fulfilled</td>\n",
       "      <td>Darlene Escamilla</td>\n",
       "      <td>6702 Stroud Drive</td>\n",
       "      <td>6702 Stroud Drive</td>\n",
       "      <td>NaN</td>\n",
       "      <td>NaN</td>\n",
       "      <td>Houston</td>\n",
       "      <td>77074</td>\n",
       "      <td>TX</td>\n",
       "      <td>US</td>\n",
       "      <td>NaN</td>\n",
       "      <td>Darlene Escamilla</td>\n",
       "      <td>6702 Stroud Drive</td>\n",
       "      <td>6702 Stroud Drive</td>\n",
       "      <td>NaN</td>\n",
       "      <td>NaN</td>\n",
       "      <td>Houston</td>\n",
       "      <td>77074</td>\n",
       "      <td>TX</td>\n",
       "      <td>US</td>\n",
       "      <td>NaN</td>\n",
       "      <td>NaN</td>\n",
       "      <td>NaN</td>\n",
       "      <td>NaN</td>\n",
       "      <td>Shopify Payments</td>\n",
       "      <td>c22418675990692.1</td>\n",
       "      <td>0.0</td>\n",
       "      <td>ExplorerClothing</td>\n",
       "      <td>0.0</td>\n",
       "      <td>NaN</td>\n",
       "      <td>NaN</td>\n",
       "      <td>NaN</td>\n",
       "      <td>4.303507e+12</td>\n",
       "      <td>NaN</td>\n",
       "      <td>Low</td>\n",
       "      <td>web</td>\n",
       "      <td>0.0</td>\n",
       "      <td>NaN</td>\n",
       "      <td>NaN</td>\n",
       "      <td>NaN</td>\n",
       "      <td>NaN</td>\n",
       "      <td>NaN</td>\n",
       "      <td>NaN</td>\n",
       "      <td>NaN</td>\n",
       "      <td>NaN</td>\n",
       "      <td>NaN</td>\n",
       "      <td>NaN</td>\n",
       "      <td>1.832808e+10</td>\n",
       "      <td>NaN</td>\n",
       "      <td>NaN</td>\n",
       "      <td>Texas</td>\n",
       "      <td>Texas</td>\n",
       "      <td>NaN</td>\n",
       "      <td>NaN</td>\n",
       "      <td>NaN</td>\n",
       "    </tr>\n",
       "    <tr>\n",
       "      <th>5</th>\n",
       "      <td>#1076</td>\n",
       "      <td>sabrinaqduong@yahoo.com</td>\n",
       "      <td>paid</td>\n",
       "      <td>2021-08-05 00:16:28 -0400</td>\n",
       "      <td>fulfilled</td>\n",
       "      <td>2021-08-07 15:49:41 -0400</td>\n",
       "      <td>no</td>\n",
       "      <td>USD</td>\n",
       "      <td>33.25</td>\n",
       "      <td>0.00</td>\n",
       "      <td>0.0</td>\n",
       "      <td>33.25</td>\n",
       "      <td>travel</td>\n",
       "      <td>1.75</td>\n",
       "      <td>Standard (USPS) 5-7 Days</td>\n",
       "      <td>2021-08-05 00:16:27 -0400</td>\n",
       "      <td>1</td>\n",
       "      <td>White Explorer Hoodie - L</td>\n",
       "      <td>35.0</td>\n",
       "      <td>90.0</td>\n",
       "      <td>NaN</td>\n",
       "      <td>True</td>\n",
       "      <td>True</td>\n",
       "      <td>fulfilled</td>\n",
       "      <td>Sabrina Duong</td>\n",
       "      <td>2009 Caversham Way</td>\n",
       "      <td>2009 Caversham Way</td>\n",
       "      <td>NaN</td>\n",
       "      <td>NaN</td>\n",
       "      <td>Folsom</td>\n",
       "      <td>95630</td>\n",
       "      <td>CA</td>\n",
       "      <td>US</td>\n",
       "      <td>NaN</td>\n",
       "      <td>Sabrina Duong</td>\n",
       "      <td>2009 Caversham Way</td>\n",
       "      <td>2009 Caversham Way</td>\n",
       "      <td>NaN</td>\n",
       "      <td>NaN</td>\n",
       "      <td>Folsom</td>\n",
       "      <td>95630</td>\n",
       "      <td>CA</td>\n",
       "      <td>US</td>\n",
       "      <td>NaN</td>\n",
       "      <td>NaN</td>\n",
       "      <td>NaN</td>\n",
       "      <td>NaN</td>\n",
       "      <td>PayPal Express Checkout</td>\n",
       "      <td>c21370740768932.1</td>\n",
       "      <td>0.0</td>\n",
       "      <td>ExplorerClothing</td>\n",
       "      <td>0.0</td>\n",
       "      <td>NaN</td>\n",
       "      <td>NaN</td>\n",
       "      <td>NaN</td>\n",
       "      <td>4.087703e+12</td>\n",
       "      <td>NaN</td>\n",
       "      <td>Low</td>\n",
       "      <td>web</td>\n",
       "      <td>0.0</td>\n",
       "      <td>NaN</td>\n",
       "      <td>NaN</td>\n",
       "      <td>NaN</td>\n",
       "      <td>NaN</td>\n",
       "      <td>NaN</td>\n",
       "      <td>NaN</td>\n",
       "      <td>NaN</td>\n",
       "      <td>NaN</td>\n",
       "      <td>NaN</td>\n",
       "      <td>NaN</td>\n",
       "      <td>NaN</td>\n",
       "      <td>NaN</td>\n",
       "      <td>NaN</td>\n",
       "      <td>California</td>\n",
       "      <td>California</td>\n",
       "      <td>NaN</td>\n",
       "      <td>NaN</td>\n",
       "      <td>NaN</td>\n",
       "    </tr>\n",
       "  </tbody>\n",
       "</table>\n",
       "</div>"
      ],
      "text/plain": [
       "    Name                         Email Financial Status  \\\n",
       "0  #1081                           NaN             paid   \n",
       "4  #1077  darleneescamilla34@gmail.com             paid   \n",
       "5  #1076       sabrinaqduong@yahoo.com             paid   \n",
       "\n",
       "                     Paid at Fulfillment Status               Fulfilled at  \\\n",
       "0  2022-04-06 21:52:40 -0400          fulfilled  2022-04-07 12:20:58 -0400   \n",
       "4  2021-10-30 16:14:12 -0400          fulfilled  2021-11-01 10:50:03 -0400   \n",
       "5  2021-08-05 00:16:28 -0400          fulfilled  2021-08-07 15:49:41 -0400   \n",
       "\n",
       "  Accepts Marketing Currency  Subtotal  Shipping  Taxes  Total Discount Code  \\\n",
       "0                no      USD     35.00      2.74    0.0  37.74           NaN   \n",
       "4                no      USD     40.00      0.00    0.0  40.00           NaN   \n",
       "5                no      USD     33.25      0.00    0.0  33.25        travel   \n",
       "\n",
       "   Discount Amount            Shipping Method                 Created at  \\\n",
       "0             0.00  Expedited (USPS) 1-4 Days  2022-04-06 21:52:39 -0400   \n",
       "4             0.00   Standard (USPS) 5-7 Days  2021-10-30 16:14:11 -0400   \n",
       "5             1.75   Standard (USPS) 5-7 Days  2021-08-05 00:16:27 -0400   \n",
       "\n",
       "   Lineitem quantity              Lineitem name  Lineitem price  \\\n",
       "0                  1  White R Hepler Hoodie - S            35.0   \n",
       "4                  1    White Helper Hoodie - L            40.0   \n",
       "5                  1  White Explorer Hoodie - L            35.0   \n",
       "\n",
       "   Lineitem compare at price  Lineitem sku  Lineitem requires shipping  \\\n",
       "0                        NaN           NaN                        True   \n",
       "4                       90.0           NaN                        True   \n",
       "5                       90.0           NaN                        True   \n",
       "\n",
       "   Lineitem taxable Lineitem fulfillment status       Billing Name  \\\n",
       "0              True                   fulfilled        Deric Kenne   \n",
       "4              True                   fulfilled  Darlene Escamilla   \n",
       "5              True                   fulfilled      Sabrina Duong   \n",
       "\n",
       "       Billing Street    Billing Address1 Billing Address2 Billing Company  \\\n",
       "0    547 Symphony Way    547 Symphony Way              NaN             NaN   \n",
       "4   6702 Stroud Drive   6702 Stroud Drive              NaN             NaN   \n",
       "5  2009 Caversham Way  2009 Caversham Way              NaN             NaN   \n",
       "\n",
       "  Billing City Billing Zip Billing Province Billing Country Billing Phone  \\\n",
       "0    Wadsworth       44281               OH              US           NaN   \n",
       "4      Houston       77074               TX              US           NaN   \n",
       "5       Folsom       95630               CA              US           NaN   \n",
       "\n",
       "       Shipping Name     Shipping Street   Shipping Address1  \\\n",
       "0        Deric Kenne    547 Symphony Way    547 Symphony Way   \n",
       "4  Darlene Escamilla   6702 Stroud Drive   6702 Stroud Drive   \n",
       "5      Sabrina Duong  2009 Caversham Way  2009 Caversham Way   \n",
       "\n",
       "  Shipping Address2 Shipping Company Shipping City Shipping Zip  \\\n",
       "0               NaN              NaN     Wadsworth        44281   \n",
       "4               NaN              NaN       Houston        77074   \n",
       "5               NaN              NaN        Folsom        95630   \n",
       "\n",
       "  Shipping Province Shipping Country Shipping Phone Notes  Note Attributes  \\\n",
       "0                OH               US            NaN   NaN              NaN   \n",
       "4                TX               US            NaN   NaN              NaN   \n",
       "5                CA               US            NaN   NaN              NaN   \n",
       "\n",
       "   Cancelled at           Payment Method  Payment Reference  Refunded Amount  \\\n",
       "0           NaN         Shopify Payments  c24005816451236.1              0.0   \n",
       "4           NaN         Shopify Payments  c22418675990692.1              0.0   \n",
       "5           NaN  PayPal Express Checkout  c21370740768932.1              0.0   \n",
       "\n",
       "             Vendor  Outstanding Balance  Employee  Location  Device ID  \\\n",
       "0  ExplorerClothing                  0.0       NaN       NaN        NaN   \n",
       "4  ExplorerClothing                  0.0       NaN       NaN        NaN   \n",
       "5  ExplorerClothing                  0.0       NaN       NaN        NaN   \n",
       "\n",
       "             Id  Tags Risk Level Source  Lineitem discount Tax 1 Name  \\\n",
       "0  4.541752e+12   NaN        Low    web                0.0        NaN   \n",
       "4  4.303507e+12   NaN        Low    web                0.0        NaN   \n",
       "5  4.087703e+12   NaN        Low    web                0.0        NaN   \n",
       "\n",
       "   Tax 1 Value  Tax 2 Name  Tax 2 Value  Tax 3 Name  Tax 3 Value  Tax 4 Name  \\\n",
       "0          NaN         NaN          NaN         NaN          NaN         NaN   \n",
       "4          NaN         NaN          NaN         NaN          NaN         NaN   \n",
       "5          NaN         NaN          NaN         NaN          NaN         NaN   \n",
       "\n",
       "   Tax 4 Value  Tax 5 Name  Tax 5 Value         Phone  Receipt Number  Duties  \\\n",
       "0          NaN         NaN          NaN  1.330631e+10             NaN     NaN   \n",
       "4          NaN         NaN          NaN  1.832808e+10             NaN     NaN   \n",
       "5          NaN         NaN          NaN           NaN             NaN     NaN   \n",
       "\n",
       "  Billing Province Name Shipping Province Name  Payment ID  \\\n",
       "0                  Ohio                   Ohio         NaN   \n",
       "4                 Texas                  Texas         NaN   \n",
       "5            California             California         NaN   \n",
       "\n",
       "   Payment Terms Name  Next Payment Due At  \n",
       "0                 NaN                  NaN  \n",
       "4                 NaN                  NaN  \n",
       "5                 NaN                  NaN  "
      ]
     },
     "execution_count": 111,
     "metadata": {},
     "output_type": "execute_result"
    }
   ],
   "source": [
    "outofstate.head(3)"
   ]
  },
  {
   "cell_type": "markdown",
   "id": "2d30054b",
   "metadata": {},
   "source": [
    "# Orders per State"
   ]
  },
  {
   "cell_type": "code",
   "execution_count": 7,
   "id": "97f22533",
   "metadata": {},
   "outputs": [
    {
     "data": {
      "text/plain": [
       "Shipping Province Name\n",
       "Alabama            1\n",
       "Arizona            1\n",
       "California         6\n",
       "Colorado           1\n",
       "Connecticut        1\n",
       "Florida            4\n",
       "Idaho              2\n",
       "Indiana            2\n",
       "Iowa               1\n",
       "Maryland           1\n",
       "Massachusetts      1\n",
       "Michigan          40\n",
       "Minnesota          1\n",
       "Missouri           1\n",
       "New York           1\n",
       "Ohio               3\n",
       "Pennsylvania       1\n",
       "South Carolina     2\n",
       "Texas              8\n",
       "Wisconsin          3\n",
       "Name: Name, dtype: int64"
      ]
     },
     "execution_count": 7,
     "metadata": {},
     "output_type": "execute_result"
    }
   ],
   "source": [
    "stategrouped = newdf.groupby('Shipping Province Name').count()\n",
    "\n",
    "stategrouped['Name']"
   ]
  },
  {
   "cell_type": "markdown",
   "id": "cd56cc1b",
   "metadata": {},
   "source": [
    "# Graph of Time of Order Placed"
   ]
  },
  {
   "cell_type": "code",
   "execution_count": 118,
   "id": "3b27a68b",
   "metadata": {},
   "outputs": [
    {
     "data": {
      "image/png": "[encoded data removed]",
      "text/plain": [
       "<Figure size 720x360 with 1 Axes>"
      ]
     },
     "metadata": {
      "needs_background": "light"
     },
     "output_type": "display_data"
    }
   ],
   "source": [
    "newdf['Created at'] = pd.to_datetime(newdf['Created at'])\n",
    "newdf['Hour'] = newdf['Created at'].dt.hour\n",
    "hours = [hour for hour, df2 in newdf.groupby('Hour')]\n",
    "\n",
    "plt.figure(figsize = (10,5))\n",
    "plt.plot(hours, newdf.groupby(['Hour']).count())\n",
    "plt.xticks(np.arange(min(hours), 24))\n",
    "plt.xlabel('Hour', size = 14)\n",
    "plt.ylabel('Number of Sales', size = 14)\n",
    "plt.title('Sales Grouped by Hour', size = 20)\n",
    "plt.grid()"
   ]
  },
  {
   "cell_type": "markdown",
   "id": "31cfda81",
   "metadata": {},
   "source": [
    "# $ Average Sale per Type of Clothing"
   ]
  },
  {
   "cell_type": "markdown",
   "id": "3d21766d",
   "metadata": {},
   "source": [
    "## All Types"
   ]
  },
  {
   "cell_type": "markdown",
   "id": "cf4dfadd",
   "metadata": {},
   "source": [
    "##### Average Price"
   ]
  },
  {
   "cell_type": "code",
   "execution_count": 8,
   "id": "8b352356",
   "metadata": {},
   "outputs": [
    {
     "data": {
      "text/plain": [
       "40.81209876543212"
      ]
     },
     "execution_count": 8,
     "metadata": {},
     "output_type": "execute_result"
    }
   ],
   "source": [
    "newdf['Total'].mean()"
   ]
  },
  {
   "cell_type": "markdown",
   "id": "0238cad7",
   "metadata": {},
   "source": [
    "##### Number Sold"
   ]
  },
  {
   "cell_type": "code",
   "execution_count": 152,
   "id": "8034c908",
   "metadata": {},
   "outputs": [
    {
     "data": {
      "text/plain": [
       "98"
      ]
     },
     "execution_count": 152,
     "metadata": {},
     "output_type": "execute_result"
    }
   ],
   "source": [
    "newdf['Lineitem name'].count()"
   ]
  },
  {
   "cell_type": "markdown",
   "id": "3d27056c",
   "metadata": {},
   "source": [
    "##### Total Revenue"
   ]
  },
  {
   "cell_type": "code",
   "execution_count": 83,
   "id": "0cbca49c",
   "metadata": {},
   "outputs": [
    {
     "data": {
      "text/plain": [
       "3305.78"
      ]
     },
     "execution_count": 83,
     "metadata": {},
     "output_type": "execute_result"
    }
   ],
   "source": [
    "newdf['Total'].sum()"
   ]
  },
  {
   "cell_type": "markdown",
   "id": "44c2587c",
   "metadata": {},
   "source": [
    "## Hat"
   ]
  },
  {
   "cell_type": "markdown",
   "id": "f9d28ed3",
   "metadata": {},
   "source": [
    "##### Average Price"
   ]
  },
  {
   "cell_type": "code",
   "execution_count": 10,
   "id": "213f81f6",
   "metadata": {},
   "outputs": [
    {
     "data": {
      "text/plain": [
       "25.69791666666666"
      ]
     },
     "execution_count": 10,
     "metadata": {},
     "output_type": "execute_result"
    }
   ],
   "source": [
    "hats = newdf[newdf['Lineitem name'].str.contains('Hat')]\n",
    "\n",
    "hats['Total'].mean()"
   ]
  },
  {
   "cell_type": "markdown",
   "id": "fbf988af",
   "metadata": {},
   "source": [
    "##### Number Sold"
   ]
  },
  {
   "cell_type": "code",
   "execution_count": 154,
   "id": "4041cccf",
   "metadata": {},
   "outputs": [
    {
     "data": {
      "text/plain": [
       "24"
      ]
     },
     "execution_count": 154,
     "metadata": {},
     "output_type": "execute_result"
    }
   ],
   "source": [
    "hats['Total'].count()"
   ]
  },
  {
   "cell_type": "markdown",
   "id": "870d5f3e",
   "metadata": {},
   "source": [
    "##### Total Revenue"
   ]
  },
  {
   "cell_type": "code",
   "execution_count": 11,
   "id": "89c8f5e7",
   "metadata": {},
   "outputs": [
    {
     "data": {
      "text/plain": [
       "616.75"
      ]
     },
     "execution_count": 11,
     "metadata": {},
     "output_type": "execute_result"
    }
   ],
   "source": [
    "hats['Total'].sum()"
   ]
  },
  {
   "cell_type": "markdown",
   "id": "4b602fa1",
   "metadata": {},
   "source": [
    "## Hoodie"
   ]
  },
  {
   "cell_type": "markdown",
   "id": "e0f015ba",
   "metadata": {},
   "source": [
    "##### Average Price"
   ]
  },
  {
   "cell_type": "code",
   "execution_count": 12,
   "id": "1fb69156",
   "metadata": {},
   "outputs": [
    {
     "data": {
      "text/plain": [
       "49.26470588235295"
      ]
     },
     "execution_count": 12,
     "metadata": {},
     "output_type": "execute_result"
    }
   ],
   "source": [
    "hoodies = newdf[newdf['Lineitem name'].str.contains('Hoodie')]\n",
    "\n",
    "hoodies['Total'].mean()"
   ]
  },
  {
   "cell_type": "markdown",
   "id": "e008b1fe",
   "metadata": {},
   "source": [
    "##### Number Sold"
   ]
  },
  {
   "cell_type": "code",
   "execution_count": 13,
   "id": "390beeb6",
   "metadata": {},
   "outputs": [
    {
     "data": {
      "text/plain": [
       "51"
      ]
     },
     "execution_count": 13,
     "metadata": {},
     "output_type": "execute_result"
    }
   ],
   "source": [
    "hoodies['Total'].count()"
   ]
  },
  {
   "cell_type": "markdown",
   "id": "6a603f29",
   "metadata": {},
   "source": [
    "##### Total Revenue"
   ]
  },
  {
   "cell_type": "code",
   "execution_count": 18,
   "id": "bfc694e9",
   "metadata": {},
   "outputs": [
    {
     "data": {
      "text/plain": [
       "2512.5"
      ]
     },
     "execution_count": 18,
     "metadata": {},
     "output_type": "execute_result"
    }
   ],
   "source": [
    "hoodies['Total'].sum()"
   ]
  },
  {
   "cell_type": "markdown",
   "id": "435786a7",
   "metadata": {},
   "source": [
    "## Crewneck"
   ]
  },
  {
   "cell_type": "markdown",
   "id": "7d97b073",
   "metadata": {},
   "source": [
    "##### Average Price"
   ]
  },
  {
   "cell_type": "code",
   "execution_count": 14,
   "id": "2e1e474e",
   "metadata": {
    "scrolled": true
   },
   "outputs": [
    {
     "data": {
      "text/plain": [
       "22.21"
      ]
     },
     "execution_count": 14,
     "metadata": {},
     "output_type": "execute_result"
    }
   ],
   "source": [
    "crews = newdf[newdf['Lineitem name'].str.contains('Crewneck')]\n",
    "\n",
    "crews['Total'].mean()"
   ]
  },
  {
   "cell_type": "markdown",
   "id": "1f017e25",
   "metadata": {},
   "source": [
    "##### Number Sold"
   ]
  },
  {
   "cell_type": "code",
   "execution_count": 15,
   "id": "eef0bb64",
   "metadata": {},
   "outputs": [
    {
     "data": {
      "text/plain": [
       "4"
      ]
     },
     "execution_count": 15,
     "metadata": {},
     "output_type": "execute_result"
    }
   ],
   "source": [
    "crews['Total'].count()"
   ]
  },
  {
   "cell_type": "markdown",
   "id": "1f338978",
   "metadata": {},
   "source": [
    "##### Total Revenue"
   ]
  },
  {
   "cell_type": "code",
   "execution_count": 19,
   "id": "75a82e49",
   "metadata": {},
   "outputs": [
    {
     "data": {
      "text/plain": [
       "88.84"
      ]
     },
     "execution_count": 19,
     "metadata": {},
     "output_type": "execute_result"
    }
   ],
   "source": [
    "crews['Total'].sum()"
   ]
  },
  {
   "cell_type": "markdown",
   "id": "fdc9e248",
   "metadata": {},
   "source": [
    "# Total Revenue"
   ]
  },
  {
   "cell_type": "code",
   "execution_count": 16,
   "id": "1929dd42",
   "metadata": {},
   "outputs": [
    {
     "data": {
      "text/plain": [
       "3305.78"
      ]
     },
     "execution_count": 16,
     "metadata": {},
     "output_type": "execute_result"
    }
   ],
   "source": [
    "newdf['Total'].sum()"
   ]
  },
  {
   "cell_type": "markdown",
   "id": "f3601536",
   "metadata": {},
   "source": [
    "# Average Time to Fulfill"
   ]
  },
  {
   "cell_type": "code",
   "execution_count": 38,
   "id": "70305c13",
   "metadata": {},
   "outputs": [
    {
     "data": {
      "text/plain": [
       "0     0 days 14:28:19\n",
       "1     0 days 11:04:52\n",
       "2     0 days 18:20:56\n",
       "3     0 days 18:22:25\n",
       "4     1 days 18:35:52\n",
       "5     2 days 15:33:14\n",
       "6     7 days 10:44:49\n",
       "7     1 days 16:15:59\n",
       "8     1 days 05:20:01\n",
       "9     1 days 05:55:45\n",
       "10    4 days 15:40:49\n",
       "11    4 days 16:43:55\n",
       "12    0 days 20:14:48\n",
       "13    9 days 06:01:46\n",
       "14    2 days 13:35:23\n",
       "16    0 days 00:23:41\n",
       "20   10 days 23:00:37\n",
       "21   11 days 10:23:18\n",
       "22    1 days 00:42:22\n",
       "23   12 days 14:15:42\n",
       "24   12 days 17:53:10\n",
       "25    0 days 02:09:24\n",
       "26    0 days 16:22:23\n",
       "27    0 days 01:27:36\n",
       "28    1 days 00:52:56\n",
       "29    2 days 10:14:19\n",
       "30    0 days 01:24:27\n",
       "31    0 days 04:53:24\n",
       "32    0 days 19:38:19\n",
       "33    9 days 19:36:15\n",
       "34    0 days 06:24:47\n",
       "35   11 days 22:49:15\n",
       "36    2 days 07:11:45\n",
       "37   13 days 17:54:29\n",
       "38    3 days 23:05:12\n",
       "39    0 days 23:19:22\n",
       "40    1 days 17:57:48\n",
       "41    0 days 00:08:12\n",
       "42    0 days 22:32:20\n",
       "43    1 days 23:58:42\n",
       "44    0 days 00:32:04\n",
       "45    1 days 22:13:31\n",
       "46    1 days 01:48:58\n",
       "47    8 days 12:03:22\n",
       "48    0 days 09:42:12\n",
       "49    0 days 22:56:44\n",
       "50    5 days 22:14:43\n",
       "51    0 days 22:37:41\n",
       "52    6 days 22:17:56\n",
       "57    8 days 01:33:28\n",
       "59    0 days 19:30:03\n",
       "60    1 days 14:36:49\n",
       "61    4 days 12:24:10\n",
       "62    1 days 19:28:29\n",
       "64    2 days 20:39:09\n",
       "66    0 days 04:21:34\n",
       "67    0 days 05:25:33\n",
       "69    1 days 01:31:31\n",
       "71    0 days 16:46:06\n",
       "73    3 days 01:04:42\n",
       "74    2 days 05:12:17\n",
       "75    0 days 21:38:56\n",
       "77    1 days 06:56:15\n",
       "78    1 days 03:54:04\n",
       "81    3 days 21:09:46\n",
       "82    0 days 00:23:06\n",
       "83    2 days 15:44:03\n",
       "84    0 days 00:52:08\n",
       "85    0 days 00:03:21\n",
       "86    0 days 15:58:35\n",
       "87   14 days 18:40:51\n",
       "88   17 days 15:29:21\n",
       "89   18 days 14:01:51\n",
       "90   23 days 17:44:43\n",
       "91   24 days 08:08:33\n",
       "92   24 days 07:58:44\n",
       "93   34 days 19:20:05\n",
       "94   40 days 03:53:32\n",
       "95    5 days 05:48:14\n",
       "96    1 days 03:04:10\n",
       "dtype: timedelta64[ns]"
      ]
     },
     "execution_count": 38,
     "metadata": {},
     "output_type": "execute_result"
    }
   ],
   "source": [
    "timetofulfill = (pd.to_datetime(newdf['Fulfilled at'])-pd.to_datetime(newdf['Created at'])).dropna()\n",
    "\n",
    "timetofulfill"
   ]
  },
  {
   "cell_type": "code",
   "execution_count": 34,
   "id": "13c8dbda",
   "metadata": {},
   "outputs": [
    {
     "data": {
      "text/plain": [
       "Timedelta('5 days 03:29:37.475000')"
      ]
     },
     "execution_count": 34,
     "metadata": {},
     "output_type": "execute_result"
    }
   ],
   "source": [
    "timetofulfill.mean()"
   ]
  },
  {
   "cell_type": "markdown",
   "id": "ae7fb507",
   "metadata": {},
   "source": [
    "# 10 Most Sold Products"
   ]
  },
  {
   "cell_type": "code",
   "execution_count": 77,
   "id": "9a2ca6c1",
   "metadata": {},
   "outputs": [
    {
     "data": {
      "text/plain": [
       "Lineitem name\n",
       "Sand Astronaut Hat                                 21\n",
       "Orchid Purple R Helper Hoodie - M                   3\n",
       "Carolina Blue \"Explorer World\" Hoodie - S           3\n",
       "White Astronaut Hat                                 3\n",
       "Carolina Blue R Helper Hoodie - S                   3\n",
       "Carolina Blue R Helper Hoodie - M                   2\n",
       "Sand \"Explorer World\" Hoodie - M                    2\n",
       "Black R Helper Hoodie - L                           2\n",
       "Sand Astronaut Crewneck - Medium                    2\n",
       "Explorer Embroidered Graphic Hoodie - XL / Sand     2\n",
       "Name: Name, dtype: int64"
      ]
     },
     "execution_count": 77,
     "metadata": {},
     "output_type": "execute_result"
    }
   ],
   "source": [
    "itemcount = newdf.groupby('Lineitem name').count()\n",
    "\n",
    "itemcount['Name'].sort_values(ascending = False).head(10)"
   ]
  },
  {
   "cell_type": "markdown",
   "id": "3ebd8e47",
   "metadata": {},
   "source": [
    "# Number of Each Size Ordered"
   ]
  },
  {
   "cell_type": "markdown",
   "id": "c850e545",
   "metadata": {},
   "source": [
    "### Small"
   ]
  },
  {
   "cell_type": "code",
   "execution_count": 72,
   "id": "fc963a65",
   "metadata": {},
   "outputs": [
    {
     "data": {
      "text/plain": [
       "26"
      ]
     },
     "execution_count": 72,
     "metadata": {},
     "output_type": "execute_result"
    }
   ],
   "source": [
    "Small = newdf[newdf['Lineitem name'].str.contains(' S')].count()\n",
    "\n",
    "Small['Name']"
   ]
  },
  {
   "cell_type": "markdown",
   "id": "b40fb0cf",
   "metadata": {},
   "source": [
    "### Medium"
   ]
  },
  {
   "cell_type": "code",
   "execution_count": 73,
   "id": "646be3d1",
   "metadata": {},
   "outputs": [
    {
     "data": {
      "text/plain": [
       "26"
      ]
     },
     "execution_count": 73,
     "metadata": {},
     "output_type": "execute_result"
    }
   ],
   "source": [
    "Medium = newdf[newdf['Lineitem name'].str.contains(' M')].count()\n",
    "\n",
    "Medium['Name']"
   ]
  },
  {
   "cell_type": "markdown",
   "id": "4019d675",
   "metadata": {},
   "source": [
    "### Large"
   ]
  },
  {
   "cell_type": "code",
   "execution_count": 74,
   "id": "56592f43",
   "metadata": {},
   "outputs": [
    {
     "data": {
      "text/plain": [
       "18"
      ]
     },
     "execution_count": 74,
     "metadata": {},
     "output_type": "execute_result"
    }
   ],
   "source": [
    "Large = newdf[newdf['Lineitem name'].str.contains(' L')].count()\n",
    "\n",
    "Large['Name']"
   ]
  },
  {
   "cell_type": "markdown",
   "id": "c657b4b5",
   "metadata": {},
   "source": [
    "### Extra Large"
   ]
  },
  {
   "cell_type": "code",
   "execution_count": 75,
   "id": "3cd8f6f8",
   "metadata": {},
   "outputs": [
    {
     "data": {
      "text/plain": [
       "9"
      ]
     },
     "execution_count": 75,
     "metadata": {},
     "output_type": "execute_result"
    }
   ],
   "source": [
    "XL = newdf[newdf['Lineitem name'].str.contains(' XL')].count()\n",
    "\n",
    "XL['Name']"
   ]
  },
  {
   "cell_type": "markdown",
   "id": "8cff9afa",
   "metadata": {},
   "source": [
    "### Double Extra Large"
   ]
  },
  {
   "cell_type": "code",
   "execution_count": 76,
   "id": "40536c40",
   "metadata": {},
   "outputs": [
    {
     "data": {
      "text/plain": [
       "5"
      ]
     },
     "execution_count": 76,
     "metadata": {},
     "output_type": "execute_result"
    }
   ],
   "source": [
    "XXL = newdf[newdf['Lineitem name'].str.contains(' XXL')].count()\n",
    "\n",
    "XXL['Name']"
   ]
  }
 ],
 "metadata": {
  "kernelspec": {
   "display_name": "Python 3 (ipykernel)",
   "language": "python",
   "name": "python3"
  },
  "language_info": {
   "codemirror_mode": {
    "name": "ipython",
    "version": 3
   },
   "file_extension": ".py",
   "mimetype": "text/x-python",
   "name": "python",
   "nbconvert_exporter": "python",
   "pygments_lexer": "ipython3",
   "version": "3.9.7"
  }
 },
 "nbformat": 4,
 "nbformat_minor": 5
}
